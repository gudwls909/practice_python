{
 "cells": [
  {
   "cell_type": "code",
   "execution_count": 2,
   "metadata": {},
   "outputs": [],
   "source": [
    "class Animal: # 클래스명은 보통 대문자로\n",
    "    str = '클래스 개념 잡기' # 클래스의 field 또는 멤버\n",
    "    #함수는 메소드(method)라고 한다\n",
    "    # field와 method를 합해서 속성(attribute)라고 한다.\n",
    "\n",
    "cat = Animal() # cat은 Aniaml의 인스턴스 (클래스에 의해서 만들어진 객체)"
   ]
  },
  {
   "cell_type": "code",
   "execution_count": 3,
   "metadata": {},
   "outputs": [
    {
     "name": "stdout",
     "output_type": "stream",
     "text": [
      "이름: 홍길동, 나이: 24\n"
     ]
    }
   ],
   "source": [
    "class Person:\n",
    "    def __init__(self): # 생성자. 클래스가 인스턴스화(객체화) 될 때 자동호출\n",
    "        self.info=''\n",
    "    \n",
    "    def showInfo(self, name, age):\n",
    "        self.info += '이름: ' + name + ', 나이: ' + age\n",
    "        print(self.info)\n",
    "        \n",
    "man = Person()\n",
    "\n",
    "man.showInfo('홍길동', '24')"
   ]
  },
  {
   "cell_type": "code",
   "execution_count": 4,
   "metadata": {},
   "outputs": [],
   "source": [
    "class Person:\n",
    "    def __init__(self, name):\n",
    "        self.name = name # field다 field는 namespace(클래스내부, 필드내부)에 묶여있다"
   ]
  },
  {
   "cell_type": "code",
   "execution_count": 5,
   "metadata": {},
   "outputs": [
    {
     "name": "stdout",
     "output_type": "stream",
     "text": [
      "내 이름은 가\n",
      "총 1명 있습니다\n",
      "내 이름은 나\n",
      "총 2명 있습니다\n"
     ]
    }
   ],
   "source": [
    "class Person:\n",
    "    cnt = 0 # 클래스 변수\n",
    "    \n",
    "    def __init__(self, name):\n",
    "        self.name = name # 객체 변수\n",
    "        Person.cnt += 1\n",
    "        \n",
    "    def showInfo(self):\n",
    "        print('내 이름은 ' + self.name)\n",
    "        \n",
    "    def how_many():\n",
    "        print('총 {}명 있습니다'.format(Person.cnt))\n",
    "        \n",
    "man1 = Person('가')\n",
    "man1.showInfo()\n",
    "\n",
    "Person.how_many()\n",
    "\n",
    "man2 = Person('나')\n",
    "man2.showInfo()\n",
    "\n",
    "Person.how_many()"
   ]
  },
  {
   "cell_type": "code",
   "execution_count": 6,
   "metadata": {},
   "outputs": [
    {
     "name": "stdout",
     "output_type": "stream",
     "text": [
      "2018-08-22 16:11:24.259602\n",
      "main function 2 start\n",
      "2018-08-22 16:11:24.259602\n",
      "2018-08-22 16:11:24.259602\n",
      "main function 1 start\n",
      "2018-08-22 16:11:24.259602\n"
     ]
    }
   ],
   "source": [
    "# 데코레이터\n",
    "\n",
    "import datetime\n",
    "\n",
    "def datetime_decorator(func):\n",
    "    def decorated():\n",
    "        print(datetime.datetime.now())\n",
    "        func()\n",
    "        print(datetime.datetime.now())\n",
    "    return decorated()\n",
    "\n",
    "\n",
    "def main_func_1():\n",
    "    print(datetime.datetime.now())\n",
    "    print('main function 1 start')\n",
    "    print(datetime.datetime.now())\n",
    "    \n",
    "    \n",
    "@datetime_decorator\n",
    "def main_func_2():\n",
    "    print('main function 2 start') # 훨씬 깔끔\n",
    "    \n",
    "    \n",
    "main_func_1()\n",
    "main_func_2"
   ]
  },
  {
   "cell_type": "code",
   "execution_count": 22,
   "metadata": {},
   "outputs": [
    {
     "name": "stdout",
     "output_type": "stream",
     "text": [
      "Person 만드는중\n",
      "가 10\n",
      "\n",
      "Student 만드는중\n",
      "나 20\n",
      "18\n",
      "\n",
      "나 20\n"
     ]
    }
   ],
   "source": [
    "class Person:\n",
    "    def __init__(self, name, age):\n",
    "        self.name = name\n",
    "        self.age = age\n",
    "        print('Person 만드는중')\n",
    "        \n",
    "    def speak_person(self):\n",
    "        print(self.name, self.age)\n",
    "    \n",
    "    def speak(self):\n",
    "        print(self.name, self.age)\n",
    "        \n",
    "class Student(Person):\n",
    "    def __init__(self, name, age, hakbun):\n",
    "        #Person.__init__(self, name, age)\n",
    "        self.name = name\n",
    "        self.age = age\n",
    "        self.hakbun = hakbun\n",
    "        print('Student 만드는중')\n",
    "        \n",
    "    def speak(self):\n",
    "        Person.speak(self) # 내부에서 Person의 메소드 사용가능\n",
    "        print(self.hakbun)\n",
    "        \n",
    "man1 = Person('가', 10)\n",
    "man1.speak()\n",
    "\n",
    "print('')\n",
    "\n",
    "student1 = Student('나', 20, 18)\n",
    "student1.speak() # 메소드 이름이 겹치면 자기꺼로\n",
    "print('')\n",
    "student1.speak_person() # 객체도 Person의 메소드 사용가능"
   ]
  },
  {
   "cell_type": "code",
   "execution_count": 8,
   "metadata": {},
   "outputs": [
    {
     "name": "stdout",
     "output_type": "stream",
     "text": [
      "['', 'c:\\\\users\\\\sss\\\\appdata\\\\local\\\\programs\\\\python\\\\python36\\\\python36.zip', 'c:\\\\users\\\\sss\\\\appdata\\\\local\\\\programs\\\\python\\\\python36\\\\DLLs', 'c:\\\\users\\\\sss\\\\appdata\\\\local\\\\programs\\\\python\\\\python36\\\\lib', 'c:\\\\users\\\\sss\\\\appdata\\\\local\\\\programs\\\\python\\\\python36', 'C:\\\\Users\\\\sss\\\\AppData\\\\Roaming\\\\Python\\\\Python36\\\\site-packages', 'c:\\\\users\\\\sss\\\\appdata\\\\local\\\\programs\\\\python\\\\python36\\\\lib\\\\site-packages', 'c:\\\\users\\\\sss\\\\appdata\\\\local\\\\programs\\\\python\\\\python36\\\\lib\\\\site-packages\\\\IPython\\\\extensions', 'C:\\\\Users\\\\sss\\\\.ipython']\n",
      "\n",
      "['', 'c:\\\\users\\\\sss\\\\appdata\\\\local\\\\programs\\\\python\\\\python36\\\\python36.zip', 'c:\\\\users\\\\sss\\\\appdata\\\\local\\\\programs\\\\python\\\\python36\\\\DLLs', 'c:\\\\users\\\\sss\\\\appdata\\\\local\\\\programs\\\\python\\\\python36\\\\lib', 'c:\\\\users\\\\sss\\\\appdata\\\\local\\\\programs\\\\python\\\\python36', 'C:\\\\Users\\\\sss\\\\AppData\\\\Roaming\\\\Python\\\\Python36\\\\site-packages', 'c:\\\\users\\\\sss\\\\appdata\\\\local\\\\programs\\\\python\\\\python36\\\\lib\\\\site-packages', 'c:\\\\users\\\\sss\\\\appdata\\\\local\\\\programs\\\\python\\\\python36\\\\lib\\\\site-packages\\\\IPython\\\\extensions', 'C:\\\\Users\\\\sss\\\\.ipython', 'c:\\\\Users\\\\sss\\\\GitHub\\\\practice_python']\n",
      "\n",
      "이름: 홍길동\n",
      "\n",
      "이름: 홍길동\n"
     ]
    }
   ],
   "source": [
    "import sys\n",
    "print(sys.path) # 기본적으로 모듈을 어디서 참고하고있는지 보여줌\n",
    "print('')\n",
    "\n",
    "sys.path.append('c:\\\\Users\\\\sss\\\\GitHub\\\\practice_python') # 추가가능, \\를 두번씩\n",
    "print(sys.path)\n",
    "print('')\n",
    "\n",
    "import module2 # 저 루트에 있는 module2.py를 import 가능하게됨\n",
    "\n",
    "module2.show_info('홍길동')\n",
    "print('')\n",
    "\n",
    "from module2 import show_info\n",
    "\n",
    "show_info('홍길동')"
   ]
  },
  {
   "cell_type": "code",
   "execution_count": 9,
   "metadata": {},
   "outputs": [],
   "source": [
    "import module3 # module3.py 참고"
   ]
  },
  {
   "cell_type": "code",
   "execution_count": 10,
   "metadata": {},
   "outputs": [
    {
     "name": "stdout",
     "output_type": "stream",
     "text": [
      "['__builtins__', '__cached__', '__doc__', '__file__', '__loader__', '__name__', '__package__', '__spec__', 'show_info']\n"
     ]
    }
   ],
   "source": [
    "print(dir(module2)) # module2에서 뭘 import가능한지 list로\n",
    "#dir()는 지금 이파일에 뭐가있는지 list로 보여줌"
   ]
  },
  {
   "cell_type": "code",
   "execution_count": 14,
   "metadata": {},
   "outputs": [
    {
     "name": "stdout",
     "output_type": "stream",
     "text": [
      "문자를 입력하세요>> ㅁ\n",
      "입력성공\n",
      "명령 수행했습니다....\n"
     ]
    }
   ],
   "source": [
    "#예외처리\n",
    "#fp = open('파일명', 'r') 파일이 없을때 FileNotFoundError\n",
    "#100/0 ZeroDivisionError\n",
    "#l = [1,2,3]\n",
    "#l[3] IndexError\n",
    "#Print('ㅁㄴㅇㄹ') NameError\n",
    "#EOF end of file 읽을 내용이 없을때\n",
    "\n",
    "try:\n",
    "    str = input('문자를 입력하세요>> ')\n",
    "except EOFError:\n",
    "    print('읽을 내용이 없습니다')\n",
    "except KeybaordInterrupt:\n",
    "    print('입력 취소되었습니다')\n",
    "else:\n",
    "    print('입력성공')\n",
    "finally:\n",
    "    print('명령 수행했습니다....')"
   ]
  },
  {
   "cell_type": "code",
   "execution_count": 15,
   "metadata": {},
   "outputs": [
    {
     "name": "stdout",
     "output_type": "stream",
     "text": [
      "에러없이 수행했습니다....\n"
     ]
    }
   ],
   "source": [
    "try:\n",
    "    f = open('nofile.txt', 'r')\n",
    "except FileNotFoundError:\n",
    "    pass\n",
    "\n",
    "print('에러없이 수행했습니다....')"
   ]
  },
  {
   "cell_type": "code",
   "execution_count": 19,
   "metadata": {},
   "outputs": [
    {
     "ename": "NotImplementedError",
     "evalue": "",
     "output_type": "error",
     "traceback": [
      "\u001b[1;31m---------------------------------------------------------------------------\u001b[0m",
      "\u001b[1;31mNotImplementedError\u001b[0m                       Traceback (most recent call last)",
      "\u001b[1;32m<ipython-input-19-122f487c7acc>\u001b[0m in \u001b[0;36m<module>\u001b[1;34m()\u001b[0m\n\u001b[0;32m      4\u001b[0m \u001b[1;33m\u001b[0m\u001b[0m\n\u001b[0;32m      5\u001b[0m \u001b[0mf\u001b[0m \u001b[1;33m=\u001b[0m \u001b[0mflight\u001b[0m\u001b[1;33m(\u001b[0m\u001b[1;33m)\u001b[0m\u001b[1;33m\u001b[0m\u001b[0m\n\u001b[1;32m----> 6\u001b[1;33m \u001b[0mf\u001b[0m\u001b[1;33m.\u001b[0m\u001b[0mfly\u001b[0m\u001b[1;33m(\u001b[0m\u001b[1;33m)\u001b[0m\u001b[1;33m\u001b[0m\u001b[0m\n\u001b[0m",
      "\u001b[1;32m<ipython-input-19-122f487c7acc>\u001b[0m in \u001b[0;36mfly\u001b[1;34m(self)\u001b[0m\n\u001b[0;32m      1\u001b[0m \u001b[1;32mclass\u001b[0m \u001b[0mflight\u001b[0m\u001b[1;33m:\u001b[0m\u001b[1;33m\u001b[0m\u001b[0m\n\u001b[0;32m      2\u001b[0m     \u001b[1;32mdef\u001b[0m \u001b[0mfly\u001b[0m\u001b[1;33m(\u001b[0m\u001b[0mself\u001b[0m\u001b[1;33m)\u001b[0m\u001b[1;33m:\u001b[0m\u001b[1;33m\u001b[0m\u001b[0m\n\u001b[1;32m----> 3\u001b[1;33m         \u001b[1;32mraise\u001b[0m \u001b[0mNotImplementedError\u001b[0m \u001b[1;31m# 아직 구현 안해놓은 곳에 해놓으면 나중에 까먹지 않을 수 있다\u001b[0m\u001b[1;33m\u001b[0m\u001b[0m\n\u001b[0m\u001b[0;32m      4\u001b[0m \u001b[1;33m\u001b[0m\u001b[0m\n\u001b[0;32m      5\u001b[0m \u001b[0mf\u001b[0m \u001b[1;33m=\u001b[0m \u001b[0mflight\u001b[0m\u001b[1;33m(\u001b[0m\u001b[1;33m)\u001b[0m\u001b[1;33m\u001b[0m\u001b[0m\n",
      "\u001b[1;31mNotImplementedError\u001b[0m: "
     ]
    }
   ],
   "source": [
    "class flight:\n",
    "    def fly(self):\n",
    "        raise NotImplementedError # 아직 구현 안해놓은 곳에 해놓으면 나중에 까먹지 않을 수 있다\n",
    "        \n",
    "f = flight()\n",
    "f.fly()"
   ]
  },
  {
   "cell_type": "code",
   "execution_count": 25,
   "metadata": {},
   "outputs": [
    {
     "name": "stdout",
     "output_type": "stream",
     "text": [
      "입력내용>>> ㅁㄴㅇㄹ\n",
      "UserException : 입력된 내용은 길이가 4 입니다. 최소한 길이가 5 이어야 합니다.\n"
     ]
    }
   ],
   "source": [
    "# 직접 내가 원하는 에러사항 만들기\n",
    "class UserException(Exception):\n",
    "    def __init__(self, length, minimum):\n",
    "        Exception.__init__(self)\n",
    "        self.length = length\n",
    "        self.minimum = minimum\n",
    "        \n",
    "try:\n",
    "    txt = input('입력내용>>> ')\n",
    "    if len(txt) < 5:\n",
    "        raise UserException(len(txt), 5)\n",
    "\n",
    "except EOFError:\n",
    "    print('읽을 내용이 없습니다')\n",
    "    \n",
    "except UserException as uex: # 에러의 이름을 uex로 하자\n",
    "    print('UserException : 입력된 내용은 길이가 {0} 입니다. 최소한 길이가 {1} 이어야 합니다.'.format(uex.length, uex.minimum))\n",
    "    \n",
    "else:\n",
    "    print('예외가 발생하지 않았습니다')\n",
    "    "
   ]
  },
  {
   "cell_type": "code",
   "execution_count": 31,
   "metadata": {
    "scrolled": true
   },
   "outputs": [
    {
     "name": "stdout",
     "output_type": "stream",
     "text": [
      "2018학년도 대학원 후기 신입생 모듈별 석박세미나 교과목 청강 신청을 아래와 같이 알려드리오니, 붙임의 내용 반드시 확인하시어 청강 신청에 착오 없으시기 바랍니다.\n",
      "\n",
      "\n",
      "\n",
      "아울러 석사 및 박사 수료 시 모듈별 석박세미나 수강은 필수조건이며, 본인이 속한 모듈별 석사 및 박사 세미나가 매 학기 각각 하나씩 개설되니 수료 전 반드시 수강하셔야 합니다.\n",
      "\n",
      "\n",
      "\n",
      "모듈별 석박사세미나는 두 개 학기로 진행되는데 첫 번째 학기는 청강만 하고 수강 신청은 하지 말아야 하며, 두 번째 학기는 수강신청을 하고 영어 발표를 진행하시어 3학점을 취득하게 됩니다.\n",
      "파일을 닫았습니다\n"
     ]
    }
   ],
   "source": [
    "import sys\n",
    "import time\n",
    "\n",
    "fp = None\n",
    "\n",
    "try:\n",
    "    fp = open('test.txt')\n",
    "    \n",
    "    while True:\n",
    "        line = fp.readline()\n",
    "        if len(line) == 0:\n",
    "            break\n",
    "        print(line)\n",
    "        sys.stdout.flush() # print문 뒤에 사용 -> 바로 화면에 출력하라\n",
    "        time.sleep(2) #-> 2s 만큼 쉬어라\n",
    "        \n",
    "except IOError:\n",
    "    print('읽을 파일이 없습니다')\n",
    "    \n",
    "except KeyboardInterrupt:\n",
    "    print('사용자가 취소를 했습니다')\n",
    "    \n",
    "finally:\n",
    "    if fp:\n",
    "        fp.close()\n",
    "    print('파일을 닫았습니다')\n",
    "        "
   ]
  },
  {
   "cell_type": "code",
   "execution_count": 33,
   "metadata": {},
   "outputs": [
    {
     "name": "stdout",
     "output_type": "stream",
     "text": [
      "a b\n",
      "2.5\n"
     ]
    }
   ],
   "source": [
    "#python 2.7와의 차이\n",
    "\n",
    "#2.7 -> print 'asdf'\n",
    "\n",
    "#2.7 -> print 'a',;print 'b'   ,로 개행문자 생략\n",
    "#3.x ->\n",
    "print('a', end=' ');print('b') # end로 개행문자 바꾸기 가능\n",
    "\n",
    "#2.7 -> 5/2 = 2, 5/2.0 = 2.5    자동 형변환이 안됨\n",
    "#3.x ->\n",
    "print(5/2)\n",
    "\n",
    "#2.7 -> raw_input 내장함수 이용\n",
    "#3.x -> input 내장함수 이용, raw_input 지원하지않음\n",
    "\n",
    "#2.7 -> utf-8을 직접 입력 (# -*- coding: utf-8 -*-)\n",
    "#3.x -> 기본 소스 인코딩으로 지정됨, 물론 utf-8말고 다른걸 사용해야 될 때는 명시해야됨\n",
    "\n",
    "#2.7 -> try except 때 조금 다르다. except ZeroDivision\n",
    "#3.x -> "
   ]
  },
  {
   "cell_type": "code",
   "execution_count": null,
   "metadata": {},
   "outputs": [],
   "source": []
  }
 ],
 "metadata": {
  "kernelspec": {
   "display_name": "Python 3",
   "language": "python",
   "name": "python3"
  },
  "language_info": {
   "codemirror_mode": {
    "name": "ipython",
    "version": 3
   },
   "file_extension": ".py",
   "mimetype": "text/x-python",
   "name": "python",
   "nbconvert_exporter": "python",
   "pygments_lexer": "ipython3",
   "version": "3.6.2"
  }
 },
 "nbformat": 4,
 "nbformat_minor": 2
}
