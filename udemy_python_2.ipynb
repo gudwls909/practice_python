{
 "cells": [
  {
   "cell_type": "code",
   "execution_count": 2,
   "metadata": {},
   "outputs": [],
   "source": [
    "class Animal: # 클래스명은 보통 대문자로\n",
    "    str = '클래스 개념 잡기' # 클래스의 field 또는 멤버\n",
    "    #함수는 메소드(method)라고 한다\n",
    "    # field와 method를 합해서 속성(attribute)라고 한다.\n",
    "\n",
    "cat = Animal() # cat은 Aniaml의 인스턴스 (클래스에 의해서 만들어진 객체)"
   ]
  },
  {
   "cell_type": "code",
   "execution_count": 3,
   "metadata": {},
   "outputs": [
    {
     "name": "stdout",
     "output_type": "stream",
     "text": [
      "이름: 홍길동, 나이: 24\n"
     ]
    }
   ],
   "source": [
    "class Person:\n",
    "    def __init__(self): # 생성자. 클래스가 인스턴스화(객체화) 될 때 자동호출\n",
    "        self.info=''\n",
    "    \n",
    "    def showInfo(self, name, age):\n",
    "        self.info += '이름: ' + name + ', 나이: ' + age\n",
    "        print(self.info)\n",
    "        \n",
    "man = Person()\n",
    "\n",
    "man.showInfo('홍길동', '24')"
   ]
  },
  {
   "cell_type": "code",
   "execution_count": 4,
   "metadata": {},
   "outputs": [],
   "source": [
    "class Person:\n",
    "    def __init__(self, name):\n",
    "        self.name = name # field다 field는 namespace(클래스내부, 필드내부)에 묶여있다"
   ]
  },
  {
   "cell_type": "code",
   "execution_count": 5,
   "metadata": {},
   "outputs": [
    {
     "name": "stdout",
     "output_type": "stream",
     "text": [
      "내 이름은 가\n",
      "총 1명 있습니다\n",
      "내 이름은 나\n",
      "총 2명 있습니다\n"
     ]
    }
   ],
   "source": [
    "class Person:\n",
    "    cnt = 0 # 클래스 변수\n",
    "    \n",
    "    def __init__(self, name):\n",
    "        self.name = name # 객체 변수\n",
    "        Person.cnt += 1\n",
    "        \n",
    "    def showInfo(self):\n",
    "        print('내 이름은 ' + self.name)\n",
    "        \n",
    "    def how_many():\n",
    "        print('총 {}명 있습니다'.format(Person.cnt))\n",
    "        \n",
    "man1 = Person('가')\n",
    "man1.showInfo()\n",
    "\n",
    "Person.how_many()\n",
    "\n",
    "man2 = Person('나')\n",
    "man2.showInfo()\n",
    "\n",
    "Person.how_many()"
   ]
  },
  {
   "cell_type": "code",
   "execution_count": 6,
   "metadata": {},
   "outputs": [
    {
     "name": "stdout",
     "output_type": "stream",
     "text": [
      "2018-08-22 16:11:24.259602\n",
      "main function 2 start\n",
      "2018-08-22 16:11:24.259602\n",
      "2018-08-22 16:11:24.259602\n",
      "main function 1 start\n",
      "2018-08-22 16:11:24.259602\n"
     ]
    }
   ],
   "source": [
    "# 데코레이터\n",
    "\n",
    "import datetime\n",
    "\n",
    "def datetime_decorator(func):\n",
    "    def decorated():\n",
    "        print(datetime.datetime.now())\n",
    "        func()\n",
    "        print(datetime.datetime.now())\n",
    "    return decorated()\n",
    "\n",
    "\n",
    "def main_func_1():\n",
    "    print(datetime.datetime.now())\n",
    "    print('main function 1 start')\n",
    "    print(datetime.datetime.now())\n",
    "    \n",
    "    \n",
    "@datetime_decorator\n",
    "def main_func_2():\n",
    "    print('main function 2 start') # 훨씬 깔끔\n",
    "    \n",
    "    \n",
    "main_func_1()\n",
    "main_func_2"
   ]
  },
  {
   "cell_type": "code",
   "execution_count": 24,
   "metadata": {},
   "outputs": [
    {
     "name": "stdout",
     "output_type": "stream",
     "text": [
      "Person 만드는중\n",
      "가 10\n",
      "\n",
      "Student 만드는중\n",
      "나 20\n",
      "18\n",
      "\n",
      "나 20\n"
     ]
    }
   ],
   "source": [
    "class Person:\n",
    "    def __init__(self, name, age):\n",
    "        self.name = name\n",
    "        self.age = age\n",
    "        print('Person 만드는중')\n",
    "        \n",
    "    def speak_person(self):\n",
    "        print(self.name, self.age)\n",
    "    \n",
    "    def speak(self):\n",
    "        print(self.name, self.age)\n",
    "        \n",
    "class Student(Person): # 상속\n",
    "    def __init__(self, name, age, hakbun):\n",
    "        #Person.__init__(self, name, age)\n",
    "        self.name = name\n",
    "        self.age = age\n",
    "        self.hakbun = hakbun\n",
    "        print('Student 만드는중')\n",
    "        \n",
    "    def speak(self):\n",
    "        Person.speak(self) # 내부에서 Person의 메소드 사용가능\n",
    "        print(self.hakbun)\n",
    "        \n",
    "man1 = Person('가', 10)\n",
    "man1.speak()\n",
    "\n",
    "print('')\n",
    "\n",
    "student1 = Student('나', 20, 18)\n",
    "student1.speak() # 메소드 이름이 겹치면 자기꺼로\n",
    "print('')\n",
    "student1.speak_person() # 객체도 Person의 메소드 사용가능"
   ]
  },
  {
   "cell_type": "code",
   "execution_count": 8,
   "metadata": {},
   "outputs": [
    {
     "name": "stdout",
     "output_type": "stream",
     "text": [
      "['', 'c:\\\\users\\\\sss\\\\appdata\\\\local\\\\programs\\\\python\\\\python36\\\\python36.zip', 'c:\\\\users\\\\sss\\\\appdata\\\\local\\\\programs\\\\python\\\\python36\\\\DLLs', 'c:\\\\users\\\\sss\\\\appdata\\\\local\\\\programs\\\\python\\\\python36\\\\lib', 'c:\\\\users\\\\sss\\\\appdata\\\\local\\\\programs\\\\python\\\\python36', 'C:\\\\Users\\\\sss\\\\AppData\\\\Roaming\\\\Python\\\\Python36\\\\site-packages', 'c:\\\\users\\\\sss\\\\appdata\\\\local\\\\programs\\\\python\\\\python36\\\\lib\\\\site-packages', 'c:\\\\users\\\\sss\\\\appdata\\\\local\\\\programs\\\\python\\\\python36\\\\lib\\\\site-packages\\\\IPython\\\\extensions', 'C:\\\\Users\\\\sss\\\\.ipython']\n",
      "\n",
      "['', 'c:\\\\users\\\\sss\\\\appdata\\\\local\\\\programs\\\\python\\\\python36\\\\python36.zip', 'c:\\\\users\\\\sss\\\\appdata\\\\local\\\\programs\\\\python\\\\python36\\\\DLLs', 'c:\\\\users\\\\sss\\\\appdata\\\\local\\\\programs\\\\python\\\\python36\\\\lib', 'c:\\\\users\\\\sss\\\\appdata\\\\local\\\\programs\\\\python\\\\python36', 'C:\\\\Users\\\\sss\\\\AppData\\\\Roaming\\\\Python\\\\Python36\\\\site-packages', 'c:\\\\users\\\\sss\\\\appdata\\\\local\\\\programs\\\\python\\\\python36\\\\lib\\\\site-packages', 'c:\\\\users\\\\sss\\\\appdata\\\\local\\\\programs\\\\python\\\\python36\\\\lib\\\\site-packages\\\\IPython\\\\extensions', 'C:\\\\Users\\\\sss\\\\.ipython', 'c:\\\\Users\\\\sss\\\\GitHub\\\\practice_python']\n",
      "\n",
      "이름: 홍길동\n",
      "\n",
      "이름: 홍길동\n"
     ]
    }
   ],
   "source": [
    "import sys\n",
    "print(sys.path) # 기본적으로 모듈을 어디서 참고하고있는지 보여줌\n",
    "print('')\n",
    "\n",
    "sys.path.append('c:\\\\Users\\\\sss\\\\GitHub\\\\practice_python') # 추가가능, \\를 두번씩\n",
    "print(sys.path)\n",
    "print('')\n",
    "\n",
    "import module2 # 저 루트에 있는 module2.py를 import 가능하게됨\n",
    "\n",
    "module2.show_info('홍길동')\n",
    "print('')\n",
    "\n",
    "from module2 import show_info\n",
    "\n",
    "show_info('홍길동')"
   ]
  },
  {
   "cell_type": "code",
   "execution_count": 9,
   "metadata": {},
   "outputs": [],
   "source": [
    "import module3 # module3.py 참고"
   ]
  },
  {
   "cell_type": "code",
   "execution_count": 10,
   "metadata": {},
   "outputs": [
    {
     "name": "stdout",
     "output_type": "stream",
     "text": [
      "['__builtins__', '__cached__', '__doc__', '__file__', '__loader__', '__name__', '__package__', '__spec__', 'show_info']\n"
     ]
    }
   ],
   "source": [
    "print(dir(module2)) # module2에서 뭘 import가능한지 list로\n",
    "#dir()는 지금 이파일에 뭐가있는지 list로 보여줌"
   ]
  },
  {
   "cell_type": "code",
   "execution_count": 14,
   "metadata": {},
   "outputs": [
    {
     "name": "stdout",
     "output_type": "stream",
     "text": [
      "문자를 입력하세요>> ㅁ\n",
      "입력성공\n",
      "명령 수행했습니다....\n"
     ]
    }
   ],
   "source": [
    "#예외처리\n",
    "#fp = open('파일명', 'r') 파일이 없을때 FileNotFoundError\n",
    "#100/0 ZeroDivisionError\n",
    "#l = [1,2,3]\n",
    "#l[3] IndexError\n",
    "#Print('ㅁㄴㅇㄹ') NameError\n",
    "#EOF end of file 읽을 내용이 없을때\n",
    "\n",
    "try:\n",
    "    str = input('문자를 입력하세요>> ')\n",
    "except EOFError:\n",
    "    print('읽을 내용이 없습니다')\n",
    "except KeybaordInterrupt:\n",
    "    print('입력 취소되었습니다')\n",
    "else:\n",
    "    print('입력성공')\n",
    "finally:\n",
    "    print('명령 수행했습니다....')"
   ]
  },
  {
   "cell_type": "code",
   "execution_count": 15,
   "metadata": {},
   "outputs": [
    {
     "name": "stdout",
     "output_type": "stream",
     "text": [
      "에러없이 수행했습니다....\n"
     ]
    }
   ],
   "source": [
    "try:\n",
    "    f = open('nofile.txt', 'r')\n",
    "except FileNotFoundError:\n",
    "    pass\n",
    "\n",
    "print('에러없이 수행했습니다....')"
   ]
  },
  {
   "cell_type": "code",
   "execution_count": 19,
   "metadata": {},
   "outputs": [
    {
     "ename": "NotImplementedError",
     "evalue": "",
     "output_type": "error",
     "traceback": [
      "\u001b[1;31m---------------------------------------------------------------------------\u001b[0m",
      "\u001b[1;31mNotImplementedError\u001b[0m                       Traceback (most recent call last)",
      "\u001b[1;32m<ipython-input-19-122f487c7acc>\u001b[0m in \u001b[0;36m<module>\u001b[1;34m()\u001b[0m\n\u001b[0;32m      4\u001b[0m \u001b[1;33m\u001b[0m\u001b[0m\n\u001b[0;32m      5\u001b[0m \u001b[0mf\u001b[0m \u001b[1;33m=\u001b[0m \u001b[0mflight\u001b[0m\u001b[1;33m(\u001b[0m\u001b[1;33m)\u001b[0m\u001b[1;33m\u001b[0m\u001b[0m\n\u001b[1;32m----> 6\u001b[1;33m \u001b[0mf\u001b[0m\u001b[1;33m.\u001b[0m\u001b[0mfly\u001b[0m\u001b[1;33m(\u001b[0m\u001b[1;33m)\u001b[0m\u001b[1;33m\u001b[0m\u001b[0m\n\u001b[0m",
      "\u001b[1;32m<ipython-input-19-122f487c7acc>\u001b[0m in \u001b[0;36mfly\u001b[1;34m(self)\u001b[0m\n\u001b[0;32m      1\u001b[0m \u001b[1;32mclass\u001b[0m \u001b[0mflight\u001b[0m\u001b[1;33m:\u001b[0m\u001b[1;33m\u001b[0m\u001b[0m\n\u001b[0;32m      2\u001b[0m     \u001b[1;32mdef\u001b[0m \u001b[0mfly\u001b[0m\u001b[1;33m(\u001b[0m\u001b[0mself\u001b[0m\u001b[1;33m)\u001b[0m\u001b[1;33m:\u001b[0m\u001b[1;33m\u001b[0m\u001b[0m\n\u001b[1;32m----> 3\u001b[1;33m         \u001b[1;32mraise\u001b[0m \u001b[0mNotImplementedError\u001b[0m \u001b[1;31m# 아직 구현 안해놓은 곳에 해놓으면 나중에 까먹지 않을 수 있다\u001b[0m\u001b[1;33m\u001b[0m\u001b[0m\n\u001b[0m\u001b[0;32m      4\u001b[0m \u001b[1;33m\u001b[0m\u001b[0m\n\u001b[0;32m      5\u001b[0m \u001b[0mf\u001b[0m \u001b[1;33m=\u001b[0m \u001b[0mflight\u001b[0m\u001b[1;33m(\u001b[0m\u001b[1;33m)\u001b[0m\u001b[1;33m\u001b[0m\u001b[0m\n",
      "\u001b[1;31mNotImplementedError\u001b[0m: "
     ]
    }
   ],
   "source": [
    "class flight:\n",
    "    def fly(self):\n",
    "        raise NotImplementedError # 아직 구현 안해놓은 곳에 해놓으면 나중에 까먹지 않을 수 있다\n",
    "        \n",
    "f = flight()\n",
    "f.fly()"
   ]
  },
  {
   "cell_type": "code",
   "execution_count": 25,
   "metadata": {},
   "outputs": [
    {
     "name": "stdout",
     "output_type": "stream",
     "text": [
      "입력내용>>> ㅁㄴㅇㄹ\n",
      "UserException : 입력된 내용은 길이가 4 입니다. 최소한 길이가 5 이어야 합니다.\n"
     ]
    }
   ],
   "source": [
    "# 직접 내가 원하는 에러사항 만들기\n",
    "class UserException(Exception):\n",
    "    def __init__(self, length, minimum):\n",
    "        Exception.__init__(self)\n",
    "        self.length = length\n",
    "        self.minimum = minimum\n",
    "        \n",
    "try:\n",
    "    txt = input('입력내용>>> ')\n",
    "    if len(txt) < 5:\n",
    "        raise UserException(len(txt), 5)\n",
    "\n",
    "except EOFError:\n",
    "    print('읽을 내용이 없습니다')\n",
    "    \n",
    "except UserException as uex: # 에러의 이름을 uex로 하자\n",
    "    print('UserException : 입력된 내용은 길이가 {0} 입니다. 최소한 길이가 {1} 이어야 합니다.'.format(uex.length, uex.minimum))\n",
    "    \n",
    "else:\n",
    "    print('예외가 발생하지 않았습니다')\n",
    "    "
   ]
  },
  {
   "cell_type": "code",
   "execution_count": 31,
   "metadata": {
    "scrolled": true
   },
   "outputs": [
    {
     "name": "stdout",
     "output_type": "stream",
     "text": [
      "2018학년도 대학원 후기 신입생 모듈별 석박세미나 교과목 청강 신청을 아래와 같이 알려드리오니, 붙임의 내용 반드시 확인하시어 청강 신청에 착오 없으시기 바랍니다.\n",
      "\n",
      "\n",
      "\n",
      "아울러 석사 및 박사 수료 시 모듈별 석박세미나 수강은 필수조건이며, 본인이 속한 모듈별 석사 및 박사 세미나가 매 학기 각각 하나씩 개설되니 수료 전 반드시 수강하셔야 합니다.\n",
      "\n",
      "\n",
      "\n",
      "모듈별 석박사세미나는 두 개 학기로 진행되는데 첫 번째 학기는 청강만 하고 수강 신청은 하지 말아야 하며, 두 번째 학기는 수강신청을 하고 영어 발표를 진행하시어 3학점을 취득하게 됩니다.\n",
      "파일을 닫았습니다\n"
     ]
    }
   ],
   "source": [
    "import sys\n",
    "import time\n",
    "\n",
    "fp = None\n",
    "\n",
    "try:\n",
    "    fp = open('test.txt')\n",
    "    \n",
    "    while True:\n",
    "        line = fp.readline()\n",
    "        if len(line) == 0:\n",
    "            break\n",
    "        print(line)\n",
    "        sys.stdout.flush() # print문 뒤에 사용 -> 바로 화면에 출력하라\n",
    "        time.sleep(2) #-> 2s 만큼 쉬어라\n",
    "        \n",
    "except IOError:\n",
    "    print('읽을 파일이 없습니다')\n",
    "    \n",
    "except KeyboardInterrupt:\n",
    "    print('사용자가 취소를 했습니다')\n",
    "    \n",
    "finally:\n",
    "    if fp:\n",
    "        fp.close()\n",
    "    print('파일을 닫았습니다')\n",
    "        "
   ]
  },
  {
   "cell_type": "code",
   "execution_count": 34,
   "metadata": {},
   "outputs": [
    {
     "name": "stdout",
     "output_type": "stream",
     "text": [
      "a b\n",
      "2.5\n"
     ]
    }
   ],
   "source": [
    "#python 2.7와의 차이\n",
    "\n",
    "#2.7 -> print 'asdf'\n",
    "\n",
    "#2.7 -> print 'a',;print 'b'   ,로 개행문자 생략\n",
    "#3.x ->\n",
    "print('a', end=' ');print('b') # end로 개행문자 바꾸기 가능\n",
    "\n",
    "#2.7 -> 5/2 = 2, 5/2.0 = 2.5    자동 형변환이 안됨\n",
    "#3.x ->\n",
    "print(5/2)\n",
    "\n",
    "#2.7 -> raw_input 내장함수 이용\n",
    "#3.x -> input 내장함수 이용, raw_input 지원하지않음\n",
    "\n",
    "#2.7 -> utf-8을 직접 입력 (# -*- coding: utf-8 -*-)\n",
    "#3.x -> 기본 소스 인코딩으로 지정됨, 물론 utf-8말고 다른걸 사용해야 될 때는 명시해야됨\n",
    "\n",
    "#2.7 -> try except 때 조금 다르다.   except ZeroDivisionError, e:    as대신 콤마로 사용\n",
    "#3.x ->  except ZeroDivisionError as e:"
   ]
  },
  {
   "cell_type": "code",
   "execution_count": 12,
   "metadata": {
    "scrolled": true
   },
   "outputs": [
    {
     "name": "stdout",
     "output_type": "stream",
     "text": [
      "입력>>>asdf\n",
      "\n",
      "Help on built-in function print in module builtins:\n",
      "\n",
      "print(...)\n",
      "    print(value, ..., sep=' ', end='\\n', file=sys.stdout, flush=False)\n",
      "    \n",
      "    Prints the values to a stream, or to sys.stdout by default.\n",
      "    Optional keyword arguments:\n",
      "    file:  a file-like object (stream); defaults to the current sys.stdout.\n",
      "    sep:   string inserted between values, default a space.\n",
      "    end:   string appended after the last value, default a newline.\n",
      "    flush: whether to forcibly flush the stream.\n",
      "\n",
      "\n",
      "{'__name__': '__main__', '__doc__': 'Automatically created module for IPython interactive environment', '__package__': None, '__loader__': None, '__spec__': None, '__builtin__': <module 'builtins' (built-in)>, '__builtins__': <module 'builtins' (built-in)>, '_ih': ['', '#내장함수\\nhelp(print)', \"#내장함수\\nstr = input('입력>>>')\\nhelp(print) # 도움말출력\", \"#내장함수\\nstr = input('입력>>>')\\nprint('')\\nhelp(print) # 도움말출력\\nprint('')\\nglobals()\", \"#내장함수\\nstr = input('입력>>>')\\nprint('')\\nhelp(print) # 도움말출력\\nprint('')\\nprint(globals())\", \"#내장함수\\nstr = input('입력>>>')\\nprint('')\\nhelp(print) # 도움말출력\\nprint('')\\nprint(globals())\\nprint('')\\nprint(locals())\\nprint('')\\ndel(str)\", \"#내장함수\\nstr = input('입력>>>')\\nprint('')\\nhelp(print) # 도움말출력\\nprint('')\\nprint(globals())\\nprint('')\\nprint(locals())\\nprint('')\\ndel(str)\\nprint('')\", \"#내장함수\\nstr = input('입력>>>')\\nprint('')\\nhelp(print) # 도움말출력\\nprint('')\\nprint(globals())\\nprint('')\\nprint(locals())\\nprint('')\\ndel(str)\\nprint('')\\neval(3+4)\\nprint('')\", \"#내장함수\\nstr = input('입력>>>')\\nprint('')\\nhelp(print) # 도움말출력\\nprint('')\\nprint(globals())\\nprint('')\\nprint(locals())\\nprint('')\\ndel(str)\\nprint('')\\neval('3+4')\\nprint('')\", \"#내장함수\\nstr = input('입력>>>')\\nprint('')\\nhelp(print) # 도움말출력\\nprint('')\\nprint(globals())\\nprint('')\\nprint(locals())\\nprint('')\\ndel(str)\\nprint('')\\nx = 10\\neval('x+4')\\nprint('')\", \"#내장함수\\nstr = input('입력>>>')\\nprint('')\\nhelp(print) # 도움말출력\\nprint('')\\nprint(globals())\\nprint('')\\nprint(locals())\\nprint('')\\ndel(str)\\nprint('')\\nx = 10\\nprint(eval('x+4'))\\nprint('')\", \"#내장함수\\nstr = input('입력>>>')\\nprint('')\\nhelp(print) # 도움말출력\\nprint('')\\nprint(globals())\\nprint('')\\nprint(locals())\\nprint('')\\ndel(str)\\nprint('')\\nx = 10\\nprint(eval('x+4'))\\nprint('')\", \"#내장함수\\nstr = input('입력>>>')\\nprint('')\\nhelp(print) # 도움말출력\\nprint('')\\nprint(globals())\\nprint('')\\nprint(locals())\\nprint('')\\ndel(str)\"], '_oh': {3: {...}}, '_dh': ['C:\\\\Users\\\\sss\\\\GitHub\\\\practice_python'], 'In': ['', '#내장함수\\nhelp(print)', \"#내장함수\\nstr = input('입력>>>')\\nhelp(print) # 도움말출력\", \"#내장함수\\nstr = input('입력>>>')\\nprint('')\\nhelp(print) # 도움말출력\\nprint('')\\nglobals()\", \"#내장함수\\nstr = input('입력>>>')\\nprint('')\\nhelp(print) # 도움말출력\\nprint('')\\nprint(globals())\", \"#내장함수\\nstr = input('입력>>>')\\nprint('')\\nhelp(print) # 도움말출력\\nprint('')\\nprint(globals())\\nprint('')\\nprint(locals())\\nprint('')\\ndel(str)\", \"#내장함수\\nstr = input('입력>>>')\\nprint('')\\nhelp(print) # 도움말출력\\nprint('')\\nprint(globals())\\nprint('')\\nprint(locals())\\nprint('')\\ndel(str)\\nprint('')\", \"#내장함수\\nstr = input('입력>>>')\\nprint('')\\nhelp(print) # 도움말출력\\nprint('')\\nprint(globals())\\nprint('')\\nprint(locals())\\nprint('')\\ndel(str)\\nprint('')\\neval(3+4)\\nprint('')\", \"#내장함수\\nstr = input('입력>>>')\\nprint('')\\nhelp(print) # 도움말출력\\nprint('')\\nprint(globals())\\nprint('')\\nprint(locals())\\nprint('')\\ndel(str)\\nprint('')\\neval('3+4')\\nprint('')\", \"#내장함수\\nstr = input('입력>>>')\\nprint('')\\nhelp(print) # 도움말출력\\nprint('')\\nprint(globals())\\nprint('')\\nprint(locals())\\nprint('')\\ndel(str)\\nprint('')\\nx = 10\\neval('x+4')\\nprint('')\", \"#내장함수\\nstr = input('입력>>>')\\nprint('')\\nhelp(print) # 도움말출력\\nprint('')\\nprint(globals())\\nprint('')\\nprint(locals())\\nprint('')\\ndel(str)\\nprint('')\\nx = 10\\nprint(eval('x+4'))\\nprint('')\", \"#내장함수\\nstr = input('입력>>>')\\nprint('')\\nhelp(print) # 도움말출력\\nprint('')\\nprint(globals())\\nprint('')\\nprint(locals())\\nprint('')\\ndel(str)\\nprint('')\\nx = 10\\nprint(eval('x+4'))\\nprint('')\", \"#내장함수\\nstr = input('입력>>>')\\nprint('')\\nhelp(print) # 도움말출력\\nprint('')\\nprint(globals())\\nprint('')\\nprint(locals())\\nprint('')\\ndel(str)\"], 'Out': {3: {...}}, 'get_ipython': <bound method InteractiveShell.get_ipython of <ipykernel.zmqshell.ZMQInteractiveShell object at 0x000002463FD1F780>>, 'exit': <IPython.core.autocall.ZMQExitAutocall object at 0x0000024640583240>, 'quit': <IPython.core.autocall.ZMQExitAutocall object at 0x0000024640583240>, '_': {...}, '__': '', '___': '', '_i': \"#내장함수\\nstr = input('입력>>>')\\nprint('')\\nhelp(print) # 도움말출력\\nprint('')\\nprint(globals())\\nprint('')\\nprint(locals())\\nprint('')\\ndel(str)\\nprint('')\\nx = 10\\nprint(eval('x+4'))\\nprint('')\", '_ii': \"#내장함수\\nstr = input('입력>>>')\\nprint('')\\nhelp(print) # 도움말출력\\nprint('')\\nprint(globals())\\nprint('')\\nprint(locals())\\nprint('')\\ndel(str)\\nprint('')\\nx = 10\\nprint(eval('x+4'))\\nprint('')\", '_iii': \"#내장함수\\nstr = input('입력>>>')\\nprint('')\\nhelp(print) # 도움말출력\\nprint('')\\nprint(globals())\\nprint('')\\nprint(locals())\\nprint('')\\ndel(str)\\nprint('')\\nx = 10\\neval('x+4')\\nprint('')\", '_i1': '#내장함수\\nhelp(print)', '_i2': \"#내장함수\\nstr = input('입력>>>')\\nhelp(print) # 도움말출력\", '_i3': \"#내장함수\\nstr = input('입력>>>')\\nprint('')\\nhelp(print) # 도움말출력\\nprint('')\\nglobals()\", '_3': {...}, '_i4': \"#내장함수\\nstr = input('입력>>>')\\nprint('')\\nhelp(print) # 도움말출력\\nprint('')\\nprint(globals())\", '_i5': \"#내장함수\\nstr = input('입력>>>')\\nprint('')\\nhelp(print) # 도움말출력\\nprint('')\\nprint(globals())\\nprint('')\\nprint(locals())\\nprint('')\\ndel(str)\", '_i6': \"#내장함수\\nstr = input('입력>>>')\\nprint('')\\nhelp(print) # 도움말출력\\nprint('')\\nprint(globals())\\nprint('')\\nprint(locals())\\nprint('')\\ndel(str)\\nprint('')\", '_i7': \"#내장함수\\nstr = input('입력>>>')\\nprint('')\\nhelp(print) # 도움말출력\\nprint('')\\nprint(globals())\\nprint('')\\nprint(locals())\\nprint('')\\ndel(str)\\nprint('')\\neval(3+4)\\nprint('')\", '_i8': \"#내장함수\\nstr = input('입력>>>')\\nprint('')\\nhelp(print) # 도움말출력\\nprint('')\\nprint(globals())\\nprint('')\\nprint(locals())\\nprint('')\\ndel(str)\\nprint('')\\neval('3+4')\\nprint('')\", '_i9': \"#내장함수\\nstr = input('입력>>>')\\nprint('')\\nhelp(print) # 도움말출력\\nprint('')\\nprint(globals())\\nprint('')\\nprint(locals())\\nprint('')\\ndel(str)\\nprint('')\\nx = 10\\neval('x+4')\\nprint('')\", 'x': 10, '_i10': \"#내장함수\\nstr = input('입력>>>')\\nprint('')\\nhelp(print) # 도움말출력\\nprint('')\\nprint(globals())\\nprint('')\\nprint(locals())\\nprint('')\\ndel(str)\\nprint('')\\nx = 10\\nprint(eval('x+4'))\\nprint('')\", '_i11': \"#내장함수\\nstr = input('입력>>>')\\nprint('')\\nhelp(print) # 도움말출력\\nprint('')\\nprint(globals())\\nprint('')\\nprint(locals())\\nprint('')\\ndel(str)\\nprint('')\\nx = 10\\nprint(eval('x+4'))\\nprint('')\", '_i12': \"#내장함수\\nstr = input('입력>>>')\\nprint('')\\nhelp(print) # 도움말출력\\nprint('')\\nprint(globals())\\nprint('')\\nprint(locals())\\nprint('')\\ndel(str)\", 'str': 'asdf'}\n",
      "\n",
      "{'__name__': '__main__', '__doc__': 'Automatically created module for IPython interactive environment', '__package__': None, '__loader__': None, '__spec__': None, '__builtin__': <module 'builtins' (built-in)>, '__builtins__': <module 'builtins' (built-in)>, '_ih': ['', '#내장함수\\nhelp(print)', \"#내장함수\\nstr = input('입력>>>')\\nhelp(print) # 도움말출력\", \"#내장함수\\nstr = input('입력>>>')\\nprint('')\\nhelp(print) # 도움말출력\\nprint('')\\nglobals()\", \"#내장함수\\nstr = input('입력>>>')\\nprint('')\\nhelp(print) # 도움말출력\\nprint('')\\nprint(globals())\", \"#내장함수\\nstr = input('입력>>>')\\nprint('')\\nhelp(print) # 도움말출력\\nprint('')\\nprint(globals())\\nprint('')\\nprint(locals())\\nprint('')\\ndel(str)\", \"#내장함수\\nstr = input('입력>>>')\\nprint('')\\nhelp(print) # 도움말출력\\nprint('')\\nprint(globals())\\nprint('')\\nprint(locals())\\nprint('')\\ndel(str)\\nprint('')\", \"#내장함수\\nstr = input('입력>>>')\\nprint('')\\nhelp(print) # 도움말출력\\nprint('')\\nprint(globals())\\nprint('')\\nprint(locals())\\nprint('')\\ndel(str)\\nprint('')\\neval(3+4)\\nprint('')\", \"#내장함수\\nstr = input('입력>>>')\\nprint('')\\nhelp(print) # 도움말출력\\nprint('')\\nprint(globals())\\nprint('')\\nprint(locals())\\nprint('')\\ndel(str)\\nprint('')\\neval('3+4')\\nprint('')\", \"#내장함수\\nstr = input('입력>>>')\\nprint('')\\nhelp(print) # 도움말출력\\nprint('')\\nprint(globals())\\nprint('')\\nprint(locals())\\nprint('')\\ndel(str)\\nprint('')\\nx = 10\\neval('x+4')\\nprint('')\", \"#내장함수\\nstr = input('입력>>>')\\nprint('')\\nhelp(print) # 도움말출력\\nprint('')\\nprint(globals())\\nprint('')\\nprint(locals())\\nprint('')\\ndel(str)\\nprint('')\\nx = 10\\nprint(eval('x+4'))\\nprint('')\", \"#내장함수\\nstr = input('입력>>>')\\nprint('')\\nhelp(print) # 도움말출력\\nprint('')\\nprint(globals())\\nprint('')\\nprint(locals())\\nprint('')\\ndel(str)\\nprint('')\\nx = 10\\nprint(eval('x+4'))\\nprint('')\", \"#내장함수\\nstr = input('입력>>>')\\nprint('')\\nhelp(print) # 도움말출력\\nprint('')\\nprint(globals())\\nprint('')\\nprint(locals())\\nprint('')\\ndel(str)\"], '_oh': {3: {...}}, '_dh': ['C:\\\\Users\\\\sss\\\\GitHub\\\\practice_python'], 'In': ['', '#내장함수\\nhelp(print)', \"#내장함수\\nstr = input('입력>>>')\\nhelp(print) # 도움말출력\", \"#내장함수\\nstr = input('입력>>>')\\nprint('')\\nhelp(print) # 도움말출력\\nprint('')\\nglobals()\", \"#내장함수\\nstr = input('입력>>>')\\nprint('')\\nhelp(print) # 도움말출력\\nprint('')\\nprint(globals())\", \"#내장함수\\nstr = input('입력>>>')\\nprint('')\\nhelp(print) # 도움말출력\\nprint('')\\nprint(globals())\\nprint('')\\nprint(locals())\\nprint('')\\ndel(str)\", \"#내장함수\\nstr = input('입력>>>')\\nprint('')\\nhelp(print) # 도움말출력\\nprint('')\\nprint(globals())\\nprint('')\\nprint(locals())\\nprint('')\\ndel(str)\\nprint('')\", \"#내장함수\\nstr = input('입력>>>')\\nprint('')\\nhelp(print) # 도움말출력\\nprint('')\\nprint(globals())\\nprint('')\\nprint(locals())\\nprint('')\\ndel(str)\\nprint('')\\neval(3+4)\\nprint('')\", \"#내장함수\\nstr = input('입력>>>')\\nprint('')\\nhelp(print) # 도움말출력\\nprint('')\\nprint(globals())\\nprint('')\\nprint(locals())\\nprint('')\\ndel(str)\\nprint('')\\neval('3+4')\\nprint('')\", \"#내장함수\\nstr = input('입력>>>')\\nprint('')\\nhelp(print) # 도움말출력\\nprint('')\\nprint(globals())\\nprint('')\\nprint(locals())\\nprint('')\\ndel(str)\\nprint('')\\nx = 10\\neval('x+4')\\nprint('')\", \"#내장함수\\nstr = input('입력>>>')\\nprint('')\\nhelp(print) # 도움말출력\\nprint('')\\nprint(globals())\\nprint('')\\nprint(locals())\\nprint('')\\ndel(str)\\nprint('')\\nx = 10\\nprint(eval('x+4'))\\nprint('')\", \"#내장함수\\nstr = input('입력>>>')\\nprint('')\\nhelp(print) # 도움말출력\\nprint('')\\nprint(globals())\\nprint('')\\nprint(locals())\\nprint('')\\ndel(str)\\nprint('')\\nx = 10\\nprint(eval('x+4'))\\nprint('')\", \"#내장함수\\nstr = input('입력>>>')\\nprint('')\\nhelp(print) # 도움말출력\\nprint('')\\nprint(globals())\\nprint('')\\nprint(locals())\\nprint('')\\ndel(str)\"], 'Out': {3: {...}}, 'get_ipython': <bound method InteractiveShell.get_ipython of <ipykernel.zmqshell.ZMQInteractiveShell object at 0x000002463FD1F780>>, 'exit': <IPython.core.autocall.ZMQExitAutocall object at 0x0000024640583240>, 'quit': <IPython.core.autocall.ZMQExitAutocall object at 0x0000024640583240>, '_': {...}, '__': '', '___': '', '_i': \"#내장함수\\nstr = input('입력>>>')\\nprint('')\\nhelp(print) # 도움말출력\\nprint('')\\nprint(globals())\\nprint('')\\nprint(locals())\\nprint('')\\ndel(str)\\nprint('')\\nx = 10\\nprint(eval('x+4'))\\nprint('')\", '_ii': \"#내장함수\\nstr = input('입력>>>')\\nprint('')\\nhelp(print) # 도움말출력\\nprint('')\\nprint(globals())\\nprint('')\\nprint(locals())\\nprint('')\\ndel(str)\\nprint('')\\nx = 10\\nprint(eval('x+4'))\\nprint('')\", '_iii': \"#내장함수\\nstr = input('입력>>>')\\nprint('')\\nhelp(print) # 도움말출력\\nprint('')\\nprint(globals())\\nprint('')\\nprint(locals())\\nprint('')\\ndel(str)\\nprint('')\\nx = 10\\neval('x+4')\\nprint('')\", '_i1': '#내장함수\\nhelp(print)', '_i2': \"#내장함수\\nstr = input('입력>>>')\\nhelp(print) # 도움말출력\", '_i3': \"#내장함수\\nstr = input('입력>>>')\\nprint('')\\nhelp(print) # 도움말출력\\nprint('')\\nglobals()\", '_3': {...}, '_i4': \"#내장함수\\nstr = input('입력>>>')\\nprint('')\\nhelp(print) # 도움말출력\\nprint('')\\nprint(globals())\", '_i5': \"#내장함수\\nstr = input('입력>>>')\\nprint('')\\nhelp(print) # 도움말출력\\nprint('')\\nprint(globals())\\nprint('')\\nprint(locals())\\nprint('')\\ndel(str)\", '_i6': \"#내장함수\\nstr = input('입력>>>')\\nprint('')\\nhelp(print) # 도움말출력\\nprint('')\\nprint(globals())\\nprint('')\\nprint(locals())\\nprint('')\\ndel(str)\\nprint('')\", '_i7': \"#내장함수\\nstr = input('입력>>>')\\nprint('')\\nhelp(print) # 도움말출력\\nprint('')\\nprint(globals())\\nprint('')\\nprint(locals())\\nprint('')\\ndel(str)\\nprint('')\\neval(3+4)\\nprint('')\", '_i8': \"#내장함수\\nstr = input('입력>>>')\\nprint('')\\nhelp(print) # 도움말출력\\nprint('')\\nprint(globals())\\nprint('')\\nprint(locals())\\nprint('')\\ndel(str)\\nprint('')\\neval('3+4')\\nprint('')\", '_i9': \"#내장함수\\nstr = input('입력>>>')\\nprint('')\\nhelp(print) # 도움말출력\\nprint('')\\nprint(globals())\\nprint('')\\nprint(locals())\\nprint('')\\ndel(str)\\nprint('')\\nx = 10\\neval('x+4')\\nprint('')\", 'x': 10, '_i10': \"#내장함수\\nstr = input('입력>>>')\\nprint('')\\nhelp(print) # 도움말출력\\nprint('')\\nprint(globals())\\nprint('')\\nprint(locals())\\nprint('')\\ndel(str)\\nprint('')\\nx = 10\\nprint(eval('x+4'))\\nprint('')\", '_i11': \"#내장함수\\nstr = input('입력>>>')\\nprint('')\\nhelp(print) # 도움말출력\\nprint('')\\nprint(globals())\\nprint('')\\nprint(locals())\\nprint('')\\ndel(str)\\nprint('')\\nx = 10\\nprint(eval('x+4'))\\nprint('')\", '_i12': \"#내장함수\\nstr = input('입력>>>')\\nprint('')\\nhelp(print) # 도움말출력\\nprint('')\\nprint(globals())\\nprint('')\\nprint(locals())\\nprint('')\\ndel(str)\", 'str': 'asdf'}\n",
      "\n"
     ]
    }
   ],
   "source": [
    "#내장함수\n",
    "str = input('입력>>>')\n",
    "print('')\n",
    "help(print) # 도움말출력\n",
    "print('')\n",
    "print(globals())\n",
    "print('')\n",
    "print(locals())\n",
    "print('')\n",
    "del(str)"
   ]
  },
  {
   "cell_type": "code",
   "execution_count": 18,
   "metadata": {},
   "outputs": [
    {
     "name": "stdout",
     "output_type": "stream",
     "text": [
      "5\n",
      "5\n",
      "6\n",
      "6\n"
     ]
    }
   ],
   "source": [
    "exec('print(5)')           # prints 5.\n",
    "# exec 'print 5'     if you use Python 2.x, nor the exec neither the print is a function there\n",
    "exec('print(5)\\nprint(6)')  # prints 5{newline}6.\n",
    "exec('if True: print(6)')  # prints 6.\n",
    "exec('5')                 # does nothing and returns nothing.\n",
    "\n",
    "x = eval('5')              # x <- 5\n",
    "x = eval('%d + 6' % x)     # x <- 11\n",
    "x = eval('abs(%d)' % -100) # x <- 100\n",
    "#x = eval('x = 5')          # INVALID; assignment is not an expression.\n",
    "#x = eval('if 1: x = 4')    # INVALID; if is a statement, not an expression."
   ]
  },
  {
   "cell_type": "code",
   "execution_count": 22,
   "metadata": {},
   "outputs": [
    {
     "name": "stdout",
     "output_type": "stream",
     "text": [
      "(1+2j)\n",
      "True\n"
     ]
    }
   ],
   "source": [
    "print(complex(1, 2))\n",
    "x = 5\n",
    "print(bool(x))"
   ]
  },
  {
   "cell_type": "code",
   "execution_count": 28,
   "metadata": {},
   "outputs": [
    {
     "name": "stdout",
     "output_type": "stream",
     "text": [
      "['__class__', '__delattr__', '__dict__', '__dir__', '__doc__', '__eq__', '__format__', '__ge__', '__getattribute__', '__gt__', '__hash__', '__init__', '__init_subclass__', '__le__', '__lt__', '__module__', '__ne__', '__new__', '__reduce__', '__reduce_ex__', '__repr__', '__setattr__', '__sizeof__', '__str__', '__subclasshook__', '__weakref__', 'speak', 'speak_person']\n",
      "<class 'int'>\n"
     ]
    }
   ],
   "source": [
    "print(dir(Person))\n",
    "print(type(x))"
   ]
  },
  {
   "cell_type": "code",
   "execution_count": 31,
   "metadata": {},
   "outputs": [
    {
     "name": "stdout",
     "output_type": "stream",
     "text": [
      "Person 만드는중\n",
      "True\n",
      "True\n"
     ]
    }
   ],
   "source": [
    "a = Person('홍길동', 20)\n",
    "print(isinstance(a, Person))\n",
    "print(issubclass(Student, Person))"
   ]
  },
  {
   "cell_type": "code",
   "execution_count": 33,
   "metadata": {},
   "outputs": [
    {
     "name": "stdout",
     "output_type": "stream",
     "text": [
      "A\n",
      "65\n"
     ]
    }
   ],
   "source": [
    "# ascii 코드\n",
    "print(chr(65))\n",
    "print(ord('A'))"
   ]
  },
  {
   "cell_type": "code",
   "execution_count": 54,
   "metadata": {},
   "outputs": [
    {
     "name": "stdout",
     "output_type": "stream",
     "text": [
      "0xc8\n",
      "0o310\n",
      "0b11001000\n"
     ]
    }
   ],
   "source": [
    "print(hex(200)) # 16진법\n",
    "print(oct(200)) # 8진법\n",
    "print(bin(200)) # 2진법"
   ]
  },
  {
   "cell_type": "code",
   "execution_count": 37,
   "metadata": {},
   "outputs": [
    {
     "name": "stdout",
     "output_type": "stream",
     "text": [
      "1866778576\n",
      "1866778576\n",
      "1866778576\n"
     ]
    }
   ],
   "source": [
    "a = 10\n",
    "print(id(10)) # 가리키는값?\n",
    "print(id(a))\n",
    "b = a\n",
    "print(id(b))"
   ]
  },
  {
   "cell_type": "code",
   "execution_count": 38,
   "metadata": {},
   "outputs": [
    {
     "name": "stdout",
     "output_type": "stream",
     "text": [
      "['a', 's', 'd', 'f']\n",
      "[1, 2, 3]\n",
      "[1, 2, 3]\n"
     ]
    }
   ],
   "source": [
    "print(list('asdf'))\n",
    "print(list((1,2,3)))\n",
    "print(list([1,2,3]))"
   ]
  },
  {
   "cell_type": "code",
   "execution_count": 42,
   "metadata": {},
   "outputs": [
    {
     "name": "stdout",
     "output_type": "stream",
     "text": [
      "[2, 3, 5]\n",
      "['a', 'b', 'c']\n",
      "[2, 3, 5]\n",
      "[2, 3, 5]\n"
     ]
    }
   ],
   "source": [
    "print(sorted([3, 2, 5]))\n",
    "print(sorted(['b', 'a', 'c']))\n",
    "print(sorted((3, 2, 5)))\n",
    "l = [3, 2, 5]\n",
    "l.sort()\n",
    "print(l)"
   ]
  },
  {
   "cell_type": "code",
   "execution_count": 44,
   "metadata": {},
   "outputs": [
    {
     "name": "stdout",
     "output_type": "stream",
     "text": [
      "[3, 6, 9]\n"
     ]
    }
   ],
   "source": [
    "print(list(map(lambda x: x*3, [1, 2, 3]))) # map 함수 - iterable의 각 요소를 func에 넣고 결과값을 iterator로 반환"
   ]
  },
  {
   "cell_type": "code",
   "execution_count": 52,
   "metadata": {},
   "outputs": [
    {
     "name": "stdout",
     "output_type": "stream",
     "text": [
      "[3, 7, 10]\n",
      "[3, 7, 10]\n",
      "[3, 7, 10]\n"
     ]
    }
   ],
   "source": [
    "def positive(l):\n",
    "    res = []\n",
    "    for i in l:\n",
    "        if i > 0:\n",
    "            res.append(i)\n",
    "    return res\n",
    "print(positive([3, -5, 7, 10, -3]))\n",
    "\n",
    "# 이 과정을 함수정의를 쉽게하는식으로 바꾸면\n",
    "def pos(n):\n",
    "    if n < 0:\n",
    "        return False\n",
    "    return True\n",
    "print(list(filter(pos, [3, -5, 7, 10, -3]))) # filter 함수 - terable의 각 요소를 func에 넣고 결과값이 True인것만 묶어서 iterator로 반환\n",
    "\n",
    "# 더쉽게 바꾸면 한줄로도 가능하다\n",
    "print(list(filter(lambda x: x>0, [3, -5, 7, 10, -3])))"
   ]
  },
  {
   "cell_type": "code",
   "execution_count": 49,
   "metadata": {},
   "outputs": [
    {
     "name": "stdout",
     "output_type": "stream",
     "text": [
      "[(0, 'a'), (1, 'b'), (2, 'c'), (3, 'd')]\n",
      "[(3, 'a'), (4, 'b'), (5, 'c'), (6, 'd')]\n",
      "1th character is a\n",
      "2th character is b\n",
      "3th character is c\n",
      "4th character is d\n"
     ]
    }
   ],
   "source": [
    "l = ['a', 'b', 'c', 'd']\n",
    "print(list(enumerate(l)))\n",
    "print(list(enumerate(l, start=3)))\n",
    "\n",
    "for i, c in enumerate(l, start=1):\n",
    "    print('{}th character is {}'.format(i, c))"
   ]
  },
  {
   "cell_type": "code",
   "execution_count": 57,
   "metadata": {},
   "outputs": [
    {
     "name": "stdout",
     "output_type": "stream",
     "text": [
      "True\n",
      "False\n",
      "True\n",
      "False\n"
     ]
    }
   ],
   "source": [
    "print(all([2, 3, 5]))\n",
    "print(all([2, 0, 5]))\n",
    "print(any([2, 0 ,0]))\n",
    "print(any([0, 0, 0]))"
   ]
  },
  {
   "cell_type": "code",
   "execution_count": 58,
   "metadata": {},
   "outputs": [
    {
     "name": "stdout",
     "output_type": "stream",
     "text": [
      "1\n",
      "2\n"
     ]
    }
   ],
   "source": [
    "print(round(1.4))\n",
    "print(round(1.6))"
   ]
  },
  {
   "cell_type": "code",
   "execution_count": 67,
   "metadata": {},
   "outputs": [
    {
     "name": "stdout",
     "output_type": "stream",
     "text": [
      "['a', 'b', 'c']\n"
     ]
    }
   ],
   "source": [
    "# pickle 모듈\n",
    "# 객체 형태를 그대로 유지해서 파일에 저장, 로드 하는 모듈\n",
    "# 바이너리 형태로 저장\n",
    "\n",
    "import pickle\n",
    "\n",
    "l = ['a', 'b', 'c']\n",
    "fp = open('list.txt', 'wb') # 꼭 b를 붙여서 바이너리 형태로 해야됨\n",
    "\n",
    "pickle.dump(l, fp)\n",
    "fp.close()\n",
    "\n",
    "# list.txt를 열어보면 이상하게 저장되어있다. 바이너리 형태로 저장되기때문에 컴퓨터만 알아볼수있는 것\n",
    "\n",
    "with open('list.txt', 'rb') as fp:\n",
    "    l2 = pickle.load(fp)\n",
    "    print(l2)"
   ]
  },
  {
   "cell_type": "code",
   "execution_count": 68,
   "metadata": {},
   "outputs": [
    {
     "name": "stdout",
     "output_type": "stream",
     "text": [
      "{'a': 1, 'b': 2}\n"
     ]
    }
   ],
   "source": [
    "# dictionary도 저장가능\n",
    "dic = {'a': 1, 'b': 2}\n",
    "with open('dic.txt', 'wb') as fp:\n",
    "    pickle.dump(dic, fp)\n",
    "with open('dic.txt', 'rb') as fp:\n",
    "    dic2 = pickle.load(fp)\n",
    "    print(dic2)"
   ]
  },
  {
   "cell_type": "code",
   "execution_count": 70,
   "metadata": {},
   "outputs": [
    {
     "name": "stdout",
     "output_type": "stream",
     "text": [
      "<class '__main__.Foo'>\n",
      "foo class\n"
     ]
    }
   ],
   "source": [
    "# class도 저장가능\n",
    "class Foo:\n",
    "    var = 'foo class'\n",
    "    \n",
    "with open('class.txt', 'wb') as fp:\n",
    "    pickle.dump(Foo, fp)\n",
    "with open('class.txt', 'rb') as fp:\n",
    "    Foo2 = pickle.load(fp)\n",
    "print(Foo2)\n",
    "print(Foo2.var)"
   ]
  },
  {
   "cell_type": "code",
   "execution_count": 85,
   "metadata": {},
   "outputs": [
    {
     "name": "stdout",
     "output_type": "stream",
     "text": [
      "c:\\\n",
      "c:\\Users\\sss\\GitHub\\practice_python\n"
     ]
    }
   ],
   "source": [
    "# os 모듈\n",
    "# os.environ 시스템의 환경 변수값을 dictionary 객체로 돌려준다\n",
    "# os.chdir 현재 디렉토리의 위치를 바꾼다\n",
    "# os.getcwd 현재 디렉토리의 위치\n",
    "# os.mkdir(디렉토리명) 디렉토리를 생성한다.\n",
    "# os.rmdir(디렉토리명) 디렉토리를 삭제한다. 단, 디렉토리가 비어있어야 한다.\n",
    "# os.unlink(파일명) 파일을 지운다.\n",
    "# os.rename(src, dst) src(소스)라는 이름의 파일을 dst이름으로 바꾼다.\n",
    "\n",
    "import os\n",
    "\n",
    "os.chdir('c:/')\n",
    "print(os.getcwd())\n",
    "os.chdir('c:/Users/sss/GitHub/practice_python')\n",
    "print(os.getcwd())"
   ]
  },
  {
   "cell_type": "code",
   "execution_count": 92,
   "metadata": {},
   "outputs": [
    {
     "name": "stdout",
     "output_type": "stream",
     "text": [
      " C 드라이브의 볼륨에는 이름이 없습니다.\n",
      " 볼륨 일련 번호: 8416-73AA\n",
      "\n",
      " c:\\Users\\sss\\GitHub\\practice_python 디렉터리\n",
      "\n",
      "2018-08-27  오후 06:06    <DIR>          .\n",
      "2018-08-27  오후 06:06    <DIR>          ..\n",
      "2018-07-30  오전 11:56                68 .gitattributes\n",
      "2018-08-22  오후 02:29    <DIR>          .ipynb_checkpoints\n",
      "2018-08-27  오후 06:02    <DIR>          asdf\n",
      "2018-08-27  오후 05:38                19 class.txt\n",
      "2018-08-27  오후 05:35                28 dic.txt\n",
      "2018-08-27  오후 05:31                32 list.txt\n",
      "2018-08-22  오후 02:43               151 module1.py\n",
      "2018-08-22  오후 02:39                47 module2.py\n",
      "2018-08-22  오후 02:55               331 module3.py\n",
      "2018-07-02  오후 03:33            12,368 numpy_tutorial.ipynb\n",
      "2018-07-02  오후 02:44             7,244 python_tutorial.ipynb\n",
      "2018-08-22  오후 04:51               517 test.txt\n",
      "2018-07-30  오전 11:56            23,556 udemy_python_1.ipynb\n",
      "2018-08-27  오후 06:06            42,717 udemy_python_2.ipynb\n",
      "2018-08-20  오후 03:33            52,400 Untitled.ipynb\n",
      "2018-08-22  오후 04:11    <DIR>          __pycache__\n",
      "              13개 파일             139,478 바이트\n",
      "               5개 디렉터리  80,955,146,240 바이트 남음\n",
      "\n"
     ]
    }
   ],
   "source": [
    "# os.system('명령어') 시스템의 유틸리티나 dos 명령어들을 파이썬에서 호출한다.\n",
    "# os.popen 시스템 명령어를 실행시킨 결과값을 읽기모드의 파일 객체로 돌려준다.\n",
    "\n",
    "os.system('dir') # jupyter notebook이라 여기서 안뜨고 jupyter notebook 실행시킨 콘솔에 뜬다.\n",
    "fp = os.popen('dir')\n",
    "print(fp.read())"
   ]
  },
  {
   "cell_type": "code",
   "execution_count": 94,
   "metadata": {},
   "outputs": [
    {
     "data": {
      "text/plain": [
       "'list_copy_shutil.txt'"
      ]
     },
     "execution_count": 94,
     "metadata": {},
     "output_type": "execute_result"
    }
   ],
   "source": [
    "# shutil 모듈 - 파일을 복사해주는 모듈\n",
    "# shutil.copy(src, dst) src(소스)라는 이름의 파일을 dst이름으로 복사\n",
    "\n",
    "import shutil\n",
    "\n",
    "shutil.copy('list.txt', 'list_copy_shutil.txt')\n"
   ]
  },
  {
   "cell_type": "code",
   "execution_count": 104,
   "metadata": {
    "scrolled": true
   },
   "outputs": [
    {
     "name": "stdout",
     "output_type": "stream",
     "text": [
      "['c:/Users/sss/GitHub/practice_python\\\\class.txt', 'c:/Users/sss/GitHub/practice_python\\\\dic.txt', 'c:/Users/sss/GitHub/practice_python\\\\list.txt', 'c:/Users/sss/GitHub/practice_python\\\\list_copy_shutil.txt', 'c:/Users/sss/GitHub/practice_python\\\\module1.py', 'c:/Users/sss/GitHub/practice_python\\\\module2.py', 'c:/Users/sss/GitHub/practice_python\\\\module3.py', 'c:/Users/sss/GitHub/practice_python\\\\numpy_tutorial.ipynb', 'c:/Users/sss/GitHub/practice_python\\\\python_tutorial.ipynb', 'c:/Users/sss/GitHub/practice_python\\\\test.txt', 'c:/Users/sss/GitHub/practice_python\\\\udemy_python_1.ipynb', 'c:/Users/sss/GitHub/practice_python\\\\udemy_python_2.ipynb', 'c:/Users/sss/GitHub/practice_python\\\\Untitled.ipynb', 'c:/Users/sss/GitHub/practice_python\\\\__pycache__']\n",
      "\n",
      "['c:/Users/sss/GitHub/practice_python\\\\module1.py', 'c:/Users/sss/GitHub/practice_python\\\\module2.py', 'c:/Users/sss/GitHub/practice_python\\\\module3.py']\n"
     ]
    }
   ],
   "source": [
    "# glob 모듈 - 디렉토리에 있는 파일들을 list로 만듬\n",
    "\n",
    "\n",
    "import glob\n",
    "\n",
    "print(glob.glob('c:/Users/sss/GitHub/practice_python/*'))\n",
    "print('')\n",
    "print(glob.glob('c:/Users/sss/GitHub/practice_python/m*'))"
   ]
  },
  {
   "cell_type": "code",
   "execution_count": 113,
   "metadata": {},
   "outputs": [
    {
     "name": "stdout",
     "output_type": "stream",
     "text": [
      "C:\\Users\\sss\\AppData\\Local\\Temp\\tmp5vmb4bjb\n",
      "6\n",
      "0\n",
      "하이 파이썬\n"
     ]
    }
   ],
   "source": [
    "# tempfile 모듈 - 임시적으로 파일을 만들어 사용할 때 유용\n",
    "# tempfile.mktemp() 임시로 파일을 만들어서 돌려주는 함수(중복되지 않도록 만들어준다)\n",
    "# tempfile.TemporaryFile()  임시적인 저장공간으로 사용될 파일 객체를 돌려주는 함수, w+b 모드\n",
    "\n",
    "\n",
    "# 모드\n",
    "# r+ 읽기와 쓰기 모드\n",
    "# w+ 읽기와 쓰기 모드, 없을 경우에는 새로 만든다. 포인터가 파일 처음에 위치\n",
    "# a+ 읽기와 쓰기 모드, 없을 경우에는 새로 만든다. 포인터가 파일 끝에 위치\n",
    "\n",
    "\n",
    "import tempfile\n",
    "\n",
    "temp = tempfile.mktemp()\n",
    "print(temp)\n",
    "\n",
    "from tempfile import TemporaryFile\n",
    "with TemporaryFile('w+t') as f: # f.close가 되면 임시적인 저장공간은 사라짐\n",
    "    n1 = f.write('하이 파이썬')\n",
    "    print(n1) # n은 포인터의 위치\n",
    "    n2 = f.seek(0) # 포인터의 위치를 0으로(처음으로)\n",
    "    print(n2) # 포인터의 위치가 처음이니 0이 나온다\n",
    "    data = f.read()\n",
    "print(data)"
   ]
  },
  {
   "cell_type": "code",
   "execution_count": 18,
   "metadata": {
    "scrolled": true
   },
   "outputs": [
    {
     "name": "stdout",
     "output_type": "stream",
     "text": [
      "1535516297.596687\n",
      "time.struct_time(tm_year=2018, tm_mon=8, tm_mday=29, tm_hour=13, tm_min=18, tm_sec=17, tm_wday=2, tm_yday=241, tm_isdst=0)\n",
      "time.struct_time(tm_year=2018, tm_mon=8, tm_mday=29, tm_hour=4, tm_min=18, tm_sec=17, tm_wday=2, tm_yday=241, tm_isdst=0)\n",
      "Wed Aug 29 13:18:17 2018\n",
      "Wed Aug 29 13:18:17 2018\n",
      "08/29/18\n",
      "Wed Aug 29 13:18:17 2018\n",
      "Wed\n",
      "0\n",
      "1\n",
      "2\n",
      "3\n",
      "4\n",
      "5\n",
      "6\n",
      "7\n",
      "8\n",
      "9\n"
     ]
    }
   ],
   "source": [
    "# time 모듈\n",
    "# time.time() - 1970년 1월 1일 0시 0분 0초를 기준으로 지난 시간을 초단위로 돌려주는 함수, UTC(세계 협정 표준시)이용\n",
    "# time.localtime - time.time()를 통해서 얻어온 실수값을 이용해서 년 월 일 시 분 초의 형태로 바꾸어주는 함수\n",
    "# time.gmtime - UTC기준 현재시간\n",
    "# time.asctime - 알아보기 쉽게\n",
    "# time.ctime - time.asctime보다 더 간단하게\n",
    "# time.strftime - 시간을 나타내는 포맷을 지정. 더 세밀하게 표현가능\n",
    "\n",
    "# 형식지정자(포맷코드)\n",
    "# %y 년도 간단, %Y 년도 그대로\n",
    "# %a 요일 간단, %A 요일 그대로\n",
    "# %b 월 간단, %B 월 그대로\n",
    "# %c 날짜와 시간을 출력\n",
    "# %d 날\n",
    "# %H 시간을 24시간표현으로, %I 시간을 12시간표현으로\n",
    "# %j 누적된 날짜\n",
    "# %m 달, %M 분\n",
    "# %p 오전 오후\n",
    "# %S 초\n",
    "# %U 누적 주(일욜시작)\n",
    "# %w 요일, %W 누적주(월욜시작)\n",
    "# %x 날짜 출력, %X 시간 출력, %Z 시간대 출력\n",
    "\n",
    "# time.sleep - 일정한 시간 간격을 주기위해서 사용, 루프문 안에서 많이 사용\n",
    "\n",
    "\n",
    "import time\n",
    "\n",
    "print(time.time())\n",
    "t = time.time()\n",
    "print(time.localtime(t)) # wday는 요일(월요일이 0), yday는 1월1일부터 누적된 날짜, isdst는 써머타임(0, -1, 1)\n",
    "print(time.gmtime(t))\n",
    "print(time.asctime(time.localtime(t)))\n",
    "print(time.ctime())\n",
    "print(time.strftime('%x', time.localtime(t)))\n",
    "print(time.strftime('%c', time.localtime(t)))\n",
    "print(time.strftime('%a', time.localtime(t)))\n",
    "\n",
    "for i in range(10):\n",
    "    print(i)\n",
    "    time.sleep(1) # 여기서 1초동안 쉰다는 얘기\n"
   ]
  },
  {
   "cell_type": "code",
   "execution_count": 25,
   "metadata": {},
   "outputs": [
    {
     "name": "stdout",
     "output_type": "stream",
     "text": [
      "                                  2018\n",
      "\n",
      "      January                   February                   March\n",
      "Mo Tu We Th Fr Sa Su      Mo Tu We Th Fr Sa Su      Mo Tu We Th Fr Sa Su\n",
      " 1  2  3  4  5  6  7                1  2  3  4                1  2  3  4\n",
      " 8  9 10 11 12 13 14       5  6  7  8  9 10 11       5  6  7  8  9 10 11\n",
      "15 16 17 18 19 20 21      12 13 14 15 16 17 18      12 13 14 15 16 17 18\n",
      "22 23 24 25 26 27 28      19 20 21 22 23 24 25      19 20 21 22 23 24 25\n",
      "29 30 31                  26 27 28                  26 27 28 29 30 31\n",
      "\n",
      "       April                      May                       June\n",
      "Mo Tu We Th Fr Sa Su      Mo Tu We Th Fr Sa Su      Mo Tu We Th Fr Sa Su\n",
      "                   1          1  2  3  4  5  6                   1  2  3\n",
      " 2  3  4  5  6  7  8       7  8  9 10 11 12 13       4  5  6  7  8  9 10\n",
      " 9 10 11 12 13 14 15      14 15 16 17 18 19 20      11 12 13 14 15 16 17\n",
      "16 17 18 19 20 21 22      21 22 23 24 25 26 27      18 19 20 21 22 23 24\n",
      "23 24 25 26 27 28 29      28 29 30 31               25 26 27 28 29 30\n",
      "30\n",
      "\n",
      "        July                     August                  September\n",
      "Mo Tu We Th Fr Sa Su      Mo Tu We Th Fr Sa Su      Mo Tu We Th Fr Sa Su\n",
      "                   1             1  2  3  4  5                      1  2\n",
      " 2  3  4  5  6  7  8       6  7  8  9 10 11 12       3  4  5  6  7  8  9\n",
      " 9 10 11 12 13 14 15      13 14 15 16 17 18 19      10 11 12 13 14 15 16\n",
      "16 17 18 19 20 21 22      20 21 22 23 24 25 26      17 18 19 20 21 22 23\n",
      "23 24 25 26 27 28 29      27 28 29 30 31            24 25 26 27 28 29 30\n",
      "30 31\n",
      "\n",
      "      October                   November                  December\n",
      "Mo Tu We Th Fr Sa Su      Mo Tu We Th Fr Sa Su      Mo Tu We Th Fr Sa Su\n",
      " 1  2  3  4  5  6  7                1  2  3  4                      1  2\n",
      " 8  9 10 11 12 13 14       5  6  7  8  9 10 11       3  4  5  6  7  8  9\n",
      "15 16 17 18 19 20 21      12 13 14 15 16 17 18      10 11 12 13 14 15 16\n",
      "22 23 24 25 26 27 28      19 20 21 22 23 24 25      17 18 19 20 21 22 23\n",
      "29 30 31                  26 27 28 29 30            24 25 26 27 28 29 30\n",
      "                                                    31\n",
      "\n",
      "\n",
      "    August 2018\n",
      "Mo Tu We Th Fr Sa Su\n",
      "       1  2  3  4  5\n",
      " 6  7  8  9 10 11 12\n",
      "13 14 15 16 17 18 19\n",
      "20 21 22 23 24 25 26\n",
      "27 28 29 30 31\n",
      "None\n",
      "\n",
      "2\n",
      "(2, 31)\n"
     ]
    }
   ],
   "source": [
    "# calendar 모듈\n",
    "# calendar.calendar(년도) - 달력출력\n",
    "# calendar.prcal(년도) - 위와같음\n",
    "# calendar.prmonth(년도, 달) - 특정 달 만 출력\n",
    "# calendar.weekday(년도, 달, 일) - 요일출력\n",
    "# calendar.monthrange(년도, 달) - 그 달의 1일의 요일, 그 달에 몇일까지 있는지 tuple로 묶어서\n",
    "\n",
    "\n",
    "\n",
    "import calendar\n",
    "\n",
    "print(calendar.calendar(2018))\n",
    "print('')\n",
    "#print(calendar.prcal(2018)) 위와 똑같음\n",
    "print(calendar.prmonth(2018, 8))\n",
    "print('')\n",
    "print(calendar.weekday(2018, 8, 29))\n",
    "print(calendar.monthrange(2018, 8))\n"
   ]
  },
  {
   "cell_type": "code",
   "execution_count": 72,
   "metadata": {},
   "outputs": [
    {
     "name": "stdout",
     "output_type": "stream",
     "text": [
      "0.8179087686252682\n",
      "8\n",
      "81\n",
      "\n",
      "27\n",
      "39\n",
      "81\n",
      "45\n",
      "56\n"
     ]
    }
   ],
   "source": [
    "# random모듈\n",
    "# 난수 - 0.0 ~ 1.0 사이의 임의의 실수값\n",
    "# random.random() - 난수발생\n",
    "# random.randint(정수, 정수) - 두 정수 사이의 임의의 정수\n",
    "# \n",
    "\n",
    "\n",
    "import random\n",
    "\n",
    "print(random.random())\n",
    "print(random.randint(5, 10))\n",
    "\n",
    "l = [39, 27, 56, 45, 81]\n",
    "print(l[random.randint(0, 4)])\n",
    "print('')\n",
    "\n",
    "def pop_list(data):\n",
    "    n = random.randint(0, len(data)-1)\n",
    "    return data.pop(n)\n",
    "\n",
    "while l:\n",
    "    print(pop_list(l))"
   ]
  }
 ],
 "metadata": {
  "kernelspec": {
   "display_name": "Python 3",
   "language": "python",
   "name": "python3"
  },
  "language_info": {
   "codemirror_mode": {
    "name": "ipython",
    "version": 3
   },
   "file_extension": ".py",
   "mimetype": "text/x-python",
   "name": "python",
   "nbconvert_exporter": "python",
   "pygments_lexer": "ipython3",
   "version": "3.6.2"
  }
 },
 "nbformat": 4,
 "nbformat_minor": 2
}
