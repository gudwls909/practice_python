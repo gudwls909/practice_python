{
 "cells": [
  {
   "cell_type": "code",
   "execution_count": 5,
   "metadata": {},
   "outputs": [],
   "source": [
    "class Animal: # 클래스명은 보통 대문자로\n",
    "    str = '클래스 개념 잡기' # 클래스의 field 또는 멤버\n",
    "    #함수는 메소드(method)라고 한다\n",
    "    # field와 method를 합해서 속성(attribute)라고 한다.\n",
    "\n",
    "cat = Animal() # cat은 Aniaml의 인스턴스 (클래스에 의해서 만들어진 객체)"
   ]
  },
  {
   "cell_type": "code",
   "execution_count": 6,
   "metadata": {},
   "outputs": [
    {
     "name": "stdout",
     "output_type": "stream",
     "text": [
      "이름: 홍길동, 나이: 24\n"
     ]
    }
   ],
   "source": [
    "class Person:\n",
    "    def __init__(self): # 생성자. 클래스가 인스턴스화(객체화) 될 때 자동호출\n",
    "        self.info=''\n",
    "    \n",
    "    def showInfo(self, name, age):\n",
    "        self.info += '이름: ' + name + ', 나이: ' + age\n",
    "        print(self.info)\n",
    "        \n",
    "man = Person()\n",
    "\n",
    "man.showInfo('홍길동', '24')"
   ]
  },
  {
   "cell_type": "code",
   "execution_count": 7,
   "metadata": {},
   "outputs": [],
   "source": [
    "class Person:\n",
    "    def __init__(self, name):\n",
    "        self.name = name # field다 field는 namespace(클래스내부, 필드내부)에 묶여있다"
   ]
  },
  {
   "cell_type": "code",
   "execution_count": 12,
   "metadata": {},
   "outputs": [
    {
     "name": "stdout",
     "output_type": "stream",
     "text": [
      "내 이름은 가\n",
      "총 1명 있습니다\n",
      "내 이름은 나\n",
      "총 2명 있습니다\n"
     ]
    }
   ],
   "source": [
    "class Person:\n",
    "    cnt = 0 # 클래스 변수\n",
    "    \n",
    "    def __init__(self, name):\n",
    "        self.name = name # 객체 변수\n",
    "        Person.cnt += 1\n",
    "        \n",
    "    def showInfo(self):\n",
    "        print('내 이름은 ' + self.name)\n",
    "        \n",
    "    def how_many():\n",
    "        print('총 {}명 있습니다'.format(Person.cnt))\n",
    "        \n",
    "man1 = Person('가')\n",
    "man1.showInfo()\n",
    "\n",
    "Person.how_many()\n",
    "\n",
    "man2 = Person('나')\n",
    "man2.showInfo()\n",
    "\n",
    "Person.how_many()"
   ]
  },
  {
   "cell_type": "code",
   "execution_count": 19,
   "metadata": {},
   "outputs": [
    {
     "name": "stdout",
     "output_type": "stream",
     "text": [
      "2018-08-22 14:15:25.358527\n",
      "main function 2 start\n",
      "2018-08-22 14:15:25.359526\n",
      "2018-08-22 14:15:25.359526\n",
      "main function 1 start\n",
      "2018-08-22 14:15:25.359526\n"
     ]
    }
   ],
   "source": [
    "# 데코레이터\n",
    "\n",
    "import datetime\n",
    "\n",
    "def datetime_decorator(func):\n",
    "    def decorated():\n",
    "        print(datetime.datetime.now())\n",
    "        func()\n",
    "        print(datetime.datetime.now())\n",
    "    return decorated()\n",
    "\n",
    "\n",
    "def main_func_1():\n",
    "    print(datetime.datetime.now())\n",
    "    print('main function 1 start')\n",
    "    print(datetime.datetime.now())\n",
    "    \n",
    "    \n",
    "@datetime_decorator\n",
    "def main_func_2():\n",
    "    print('main function 2 start') # 훨씬 깔끔\n",
    "    \n",
    "    \n",
    "main_func_1()\n",
    "main_func_2"
   ]
  },
  {
   "cell_type": "code",
   "execution_count": 29,
   "metadata": {},
   "outputs": [
    {
     "name": "stdout",
     "output_type": "stream",
     "text": [
      "Person 만드는중\n",
      "가 10\n",
      "\n",
      "Student 만드는중\n",
      "나 20\n",
      "18\n",
      "\n",
      "나 20\n"
     ]
    }
   ],
   "source": [
    "class Person:\n",
    "    def __init__(self, name, age):\n",
    "        self.name = name\n",
    "        self.age = age\n",
    "        print('Person 만드는중')\n",
    "        \n",
    "    def speak_person(self):\n",
    "        print(self.name, self.age)\n",
    "    \n",
    "    def speak(self):\n",
    "        print(self.name, self.age)\n",
    "        \n",
    "class Student(Person):\n",
    "    def __init__(self, name, age, hakbun):\n",
    "        #Person.__init__(self, name, age)\n",
    "        self.name = name\n",
    "        self.age = age\n",
    "        self.hakbun = hakbun\n",
    "        print('Student 만드는중')\n",
    "        \n",
    "    def speak(self):\n",
    "        Person.speak(self) # 내부에서 Person의 메소드 사용가능\n",
    "        print(self.hakbun)\n",
    "        \n",
    "man1 = Person('가', 10)\n",
    "man1.speak()\n",
    "\n",
    "print('')\n",
    "\n",
    "student1 = Student('나', 20, 18)\n",
    "student1.speak() # 메소드 이름이 겹치면 자기꺼로\n",
    "print('')\n",
    "student1.speak_person() # 객체도 Person의 메소드 사용가능"
   ]
  },
  {
   "cell_type": "code",
   "execution_count": 43,
   "metadata": {},
   "outputs": [
    {
     "name": "stdout",
     "output_type": "stream",
     "text": [
      "['', 'c:\\\\users\\\\sss\\\\appdata\\\\local\\\\programs\\\\python\\\\python36\\\\python36.zip', 'c:\\\\users\\\\sss\\\\appdata\\\\local\\\\programs\\\\python\\\\python36\\\\DLLs', 'c:\\\\users\\\\sss\\\\appdata\\\\local\\\\programs\\\\python\\\\python36\\\\lib', 'c:\\\\users\\\\sss\\\\appdata\\\\local\\\\programs\\\\python\\\\python36', 'C:\\\\Users\\\\sss\\\\AppData\\\\Roaming\\\\Python\\\\Python36\\\\site-packages', 'c:\\\\users\\\\sss\\\\appdata\\\\local\\\\programs\\\\python\\\\python36\\\\lib\\\\site-packages', 'c:\\\\users\\\\sss\\\\appdata\\\\local\\\\programs\\\\python\\\\python36\\\\lib\\\\site-packages\\\\IPython\\\\extensions', 'C:\\\\Users\\\\sss\\\\.ipython', 'c:\\\\Users\\\\sss\\\\GitHub\\\\practice_python', 'c:\\\\Users\\\\sss\\\\GitHub\\\\practice_python', 'c:\\\\Users\\\\sss\\\\GitHub\\\\practice_python']\n",
      "\n",
      "['', 'c:\\\\users\\\\sss\\\\appdata\\\\local\\\\programs\\\\python\\\\python36\\\\python36.zip', 'c:\\\\users\\\\sss\\\\appdata\\\\local\\\\programs\\\\python\\\\python36\\\\DLLs', 'c:\\\\users\\\\sss\\\\appdata\\\\local\\\\programs\\\\python\\\\python36\\\\lib', 'c:\\\\users\\\\sss\\\\appdata\\\\local\\\\programs\\\\python\\\\python36', 'C:\\\\Users\\\\sss\\\\AppData\\\\Roaming\\\\Python\\\\Python36\\\\site-packages', 'c:\\\\users\\\\sss\\\\appdata\\\\local\\\\programs\\\\python\\\\python36\\\\lib\\\\site-packages', 'c:\\\\users\\\\sss\\\\appdata\\\\local\\\\programs\\\\python\\\\python36\\\\lib\\\\site-packages\\\\IPython\\\\extensions', 'C:\\\\Users\\\\sss\\\\.ipython', 'c:\\\\Users\\\\sss\\\\GitHub\\\\practice_python', 'c:\\\\Users\\\\sss\\\\GitHub\\\\practice_python', 'c:\\\\Users\\\\sss\\\\GitHub\\\\practice_python', 'c:\\\\Users\\\\sss\\\\GitHub\\\\practice_python']\n",
      "\n",
      "이름: 홍길동\n",
      "\n",
      "이름: 홍길동\n"
     ]
    }
   ],
   "source": [
    "import sys\n",
    "print(sys.path) # 기본적으로 모듈을 어디서 참고하고있는지 보여줌\n",
    "print('')\n",
    "\n",
    "sys.path.append('c:\\\\Users\\\\sss\\\\GitHub\\\\practice_python') # 추가가능, \\를 두번씩\n",
    "print(sys.path)\n",
    "print('')\n",
    "\n",
    "import module2 # 저 루트에 있는 module2.py를 import 가능하게됨\n",
    "\n",
    "module2.show_info('홍길동')\n",
    "print('')\n",
    "\n",
    "from module2 import show_info\n",
    "\n",
    "show_info('홍길동')"
   ]
  },
  {
   "cell_type": "code",
   "execution_count": 42,
   "metadata": {},
   "outputs": [],
   "source": [
    "import module3 # module3.py 참고"
   ]
  },
  {
   "cell_type": "code",
   "execution_count": null,
   "metadata": {},
   "outputs": [],
   "source": [
    "print(dir(module2)) # module2에서 뭘 import가능한지 list로\n",
    "#dir()는 지금 이파일에 뭐가있는지 list로 보여줌"
   ]
  },
  {
   "cell_type": "code",
   "execution_count": null,
   "metadata": {},
   "outputs": [],
   "source": [
    "#예외처리\n",
    "#fp = open('파일명', 'r') 파일이 없을때 FileNotFoundError\n",
    "#100/0 ZeroDivisionError\n",
    "#l = [1,2,3]\n",
    "#l[3] IndexError\n",
    "#Print('ㅁㄴㅇㄹ') NameError\n",
    "#EOF end of file 읽을 내용이 없을때\n",
    "\n",
    "try:\n",
    "    str = input('문자를 입력하세요>> ')\n",
    "except EOFError:\n",
    "    print('읽을 내용이 없습니다')\n",
    "except KeybaordInterrupt:\n",
    "    print('입력 취소되었습니다')"
   ]
  },
  {
   "cell_type": "code",
   "execution_count": null,
   "metadata": {},
   "outputs": [],
   "source": []
  }
 ],
 "metadata": {
  "kernelspec": {
   "display_name": "Python 3",
   "language": "python",
   "name": "python3"
  },
  "language_info": {
   "codemirror_mode": {
    "name": "ipython",
    "version": 3
   },
   "file_extension": ".py",
   "mimetype": "text/x-python",
   "name": "python",
   "nbconvert_exporter": "python",
   "pygments_lexer": "ipython3",
   "version": "3.6.2"
  }
 },
 "nbformat": 4,
 "nbformat_minor": 2
}
