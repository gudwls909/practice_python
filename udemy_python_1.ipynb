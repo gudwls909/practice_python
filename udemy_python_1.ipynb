{
 "cells": [
  {
   "cell_type": "code",
   "execution_count": 2,
   "metadata": {},
   "outputs": [
    {
     "name": "stdout",
     "output_type": "stream",
     "text": [
      "asdf\n",
      "asdf\n",
      "I'm OK\n"
     ]
    }
   ],
   "source": [
    "print(\"\"\"asdf\n",
    "asdf\"\"\")\n",
    "print(\"I'm OK\")"
   ]
  },
  {
   "cell_type": "code",
   "execution_count": 21,
   "metadata": {},
   "outputs": [
    {
     "name": "stdout",
     "output_type": "stream",
     "text": [
      "asdf\n",
      "\n",
      "asdf\"\n",
      "\u0000\n",
      "asdf\tasdf\n",
      "\\\n"
     ]
    }
   ],
   "source": [
    "print('asdf\\n')\n",
    "print('asdf\\\"')\n",
    "print('\\000') # null 문자\n",
    "print('asdf\\tasdf') # tab\n",
    "print('\\\\')"
   ]
  },
  {
   "cell_type": "code",
   "execution_count": 24,
   "metadata": {},
   "outputs": [
    {
     "name": "stdout",
     "output_type": "stream",
     "text": [
      "B\n"
     ]
    },
    {
     "ename": "TypeError",
     "evalue": "'str' object does not support item assignment",
     "output_type": "error",
     "traceback": [
      "\u001b[1;31m---------------------------------------------------------------------------\u001b[0m",
      "\u001b[1;31mTypeError\u001b[0m                                 Traceback (most recent call last)",
      "\u001b[1;32m<ipython-input-24-aa4461329286>\u001b[0m in \u001b[0;36m<module>\u001b[1;34m()\u001b[0m\n\u001b[0;32m      1\u001b[0m \u001b[0mstr\u001b[0m \u001b[1;33m=\u001b[0m \u001b[1;34m\"ABCD\"\u001b[0m\u001b[1;33m\u001b[0m\u001b[0m\n\u001b[0;32m      2\u001b[0m \u001b[0mprint\u001b[0m\u001b[1;33m(\u001b[0m\u001b[0mstr\u001b[0m\u001b[1;33m[\u001b[0m\u001b[1;36m1\u001b[0m\u001b[1;33m]\u001b[0m\u001b[1;33m)\u001b[0m\u001b[1;33m\u001b[0m\u001b[0m\n\u001b[1;32m----> 3\u001b[1;33m \u001b[0mstr\u001b[0m\u001b[1;33m[\u001b[0m\u001b[1;36m1\u001b[0m\u001b[1;33m]\u001b[0m \u001b[1;33m=\u001b[0m \u001b[1;34m'F'\u001b[0m \u001b[1;31m#문자열, 튜플은 요소값을 못바꾼다\u001b[0m\u001b[1;33m\u001b[0m\u001b[0m\n\u001b[0m\u001b[0;32m      4\u001b[0m \u001b[0mprint\u001b[0m\u001b[1;33m(\u001b[0m\u001b[0mstr\u001b[0m\u001b[1;33m)\u001b[0m\u001b[1;33m\u001b[0m\u001b[0m\n",
      "\u001b[1;31mTypeError\u001b[0m: 'str' object does not support item assignment"
     ]
    }
   ],
   "source": [
    "str = \"ABCD\"\n",
    "print(str[1])\n",
    "str[1] = 'F' #문자열, 튜플은 요소값을 못바꾼다, 리스트는 가능\n",
    "print(str)"
   ]
  },
  {
   "cell_type": "code",
   "execution_count": 29,
   "metadata": {},
   "outputs": [
    {
     "name": "stdout",
     "output_type": "stream",
     "text": [
      "ㄴㅁㅇㄹ asdf ㅁ나어ㅣㄹ\n",
      "확률은 70% 입니다.\n",
      "2.12346\n",
      "     hello\n",
      "hello     \n",
      "hello     Python\n"
     ]
    }
   ],
   "source": [
    "print(\"ㄴㅁㅇㄹ %s ㅁ나어ㅣㄹ\" % 'asdf') #  %s 문자열 %f 실수형 %c 문자 %o 8진수 %x 16진수 %% %표현\n",
    "# print(\"확률은 %d% 입니다.\" % 70) # 에러\n",
    "print(\"확률은 %d%% 입니다.\" % 70)\n",
    "print(\"%0.5f\" % 2.123456789) # 소수점 5번째까지, 6번째에서 반올림\n",
    "print(\"%10s\" % \"hello\")\n",
    "print(\"%-10s\" % \"hello\")\n",
    "print(\"%-10sPython\" % \"hello\")"
   ]
  },
  {
   "cell_type": "code",
   "execution_count": 31,
   "metadata": {},
   "outputs": [
    {
     "name": "stdout",
     "output_type": "stream",
     "text": [
      "[1, [100, 200], 3]\n",
      "[1, 100, 200, 3]\n"
     ]
    }
   ],
   "source": [
    "a = [1, 2, 3]\n",
    "a[1] = [100, 200]\n",
    "print(a)\n",
    "\n",
    "a = [1, 2, 3]\n",
    "a[1:2] = [100, 200]\n",
    "print(a)"
   ]
  },
  {
   "cell_type": "code",
   "execution_count": 32,
   "metadata": {},
   "outputs": [
    {
     "name": "stdout",
     "output_type": "stream",
     "text": [
      "[1, 200, 3]\n",
      "[200, 3]\n"
     ]
    }
   ],
   "source": [
    "a[1:2] = []\n",
    "print(a)\n",
    "del a[0]\n",
    "print(a)"
   ]
  },
  {
   "cell_type": "code",
   "execution_count": 33,
   "metadata": {},
   "outputs": [
    {
     "name": "stdout",
     "output_type": "stream",
     "text": [
      "참\n",
      "거짓\n",
      "참\n",
      "거짓\n"
     ]
    }
   ],
   "source": [
    "def bool(a):\n",
    "    if a:\n",
    "        print(\"참\")\n",
    "    else:\n",
    "        print(\"거짓\")\n",
    "\n",
    "bool([1,2])\n",
    "bool([])\n",
    "bool(\"aaa\")\n",
    "bool(\"\")"
   ]
  },
  {
   "cell_type": "code",
   "execution_count": 34,
   "metadata": {},
   "outputs": [
    {
     "name": "stdout",
     "output_type": "stream",
     "text": [
      "[1, 2, 4]\n",
      "[1, 2, 4]\n",
      "[1, 2, 4]\n",
      "[1, 2, 3]\n"
     ]
    }
   ],
   "source": [
    "# list의 복사\n",
    "a = [1,2,3]\n",
    "b = a #잘못된 예\n",
    "a[2] = 4\n",
    "print(a)\n",
    "print(b)\n",
    "\n",
    "a = [1,2,3]\n",
    "b = a[:] #a 전체 slicing\n",
    "a[2] = 4\n",
    "print(a)\n",
    "print(b)"
   ]
  },
  {
   "cell_type": "code",
   "execution_count": 36,
   "metadata": {},
   "outputs": [
    {
     "name": "stdout",
     "output_type": "stream",
     "text": [
      "True\n",
      "False\n"
     ]
    }
   ],
   "source": [
    "print(\"a\" in [\"a\", \"b\", \"c\"])\n",
    "print(\"a\" not in [\"a\", \"b\", \"c\"])"
   ]
  },
  {
   "cell_type": "code",
   "execution_count": 5,
   "metadata": {},
   "outputs": [
    {
     "name": "stdout",
     "output_type": "stream",
     "text": [
      "[2, 4, 6, 8, 10, 12, 14, 16, 18, 3, 6, 9, 12, 15, 18, 21, 24, 27, 4, 8, 12, 16, 20, 24, 28, 32, 36, 5, 10, 15, 20, 25, 30, 35, 40, 45, 6, 12, 18, 24, 30, 36, 42, 48, 54, 7, 14, 21, 28, 35, 42, 49, 56, 63, 8, 16, 24, 32, 40, 48, 56, 64, 72, 9, 18, 27, 36, 45, 54, 63, 72, 81]\n",
      "[6, 12, 18, 12, 24, 36, 18, 36, 54, 24, 48, 72]\n"
     ]
    }
   ],
   "source": [
    "gugudan = [ i*j for i in range(2, 10)\n",
    "                for j in range(1, 10)]\n",
    "print(gugudan)\n",
    "\n",
    "gugudan_2 = [i*j for i in range(2, 10) if i % 2 == 0\n",
    "                 for j in range(1, 10) if j % 3 == 0]\n",
    "print(gugudan_2)"
   ]
  },
  {
   "cell_type": "code",
   "execution_count": 6,
   "metadata": {},
   "outputs": [
    {
     "name": "stdout",
     "output_type": "stream",
     "text": [
      "asdf 100 300 200 asdf\n"
     ]
    }
   ],
   "source": [
    "print(\"asdf {0} {2} {1} asdf\".format(100, 200, 300)) # {}안 숫자는 순서"
   ]
  },
  {
   "cell_type": "code",
   "execution_count": 7,
   "metadata": {},
   "outputs": [
    {
     "name": "stdout",
     "output_type": "stream",
     "text": [
      "asdf 100 day asdf\n"
     ]
    }
   ],
   "source": [
    "n = 100\n",
    "d = \"day\"\n",
    "print(\"asdf {0} {1} asdf\".format(n, d))"
   ]
  },
  {
   "cell_type": "code",
   "execution_count": 8,
   "metadata": {},
   "outputs": [
    {
     "name": "stdout",
     "output_type": "stream",
     "text": [
      "asdf 100 day asdf\n"
     ]
    }
   ],
   "source": [
    "print(\"asdf {0} {d} asdf\".format(100, d=\"day\"))"
   ]
  },
  {
   "cell_type": "code",
   "execution_count": 14,
   "metadata": {},
   "outputs": [
    {
     "name": "stdout",
     "output_type": "stream",
     "text": [
      "12345     \n",
      "     12345\n",
      "  12345   \n",
      "--12345---\n",
      "*****12345\n"
     ]
    }
   ],
   "source": [
    "print(\"{d:<10}\".format(d=\"12345\"))\n",
    "print(\"{d:>10}\".format(d=\"12345\"))\n",
    "print(\"{d:^10}\".format(d=\"12345\"))\n",
    "\n",
    "print(\"{d:-^10}\".format(d=\"12345\"))\n",
    "print(\"{d:*>10}\".format(d=\"12345\"))"
   ]
  },
  {
   "cell_type": "code",
   "execution_count": 20,
   "metadata": {},
   "outputs": [
    {
     "name": "stdout",
     "output_type": "stream",
     "text": [
      "2\n",
      "2\n",
      "0\n",
      "-1\n"
     ]
    }
   ],
   "source": [
    "str = \"asdfa\"\n",
    "print(str.count(\"a\"))\n",
    "print(str.find(\"d\"))\n",
    "print(str.find(\"a\"))\n",
    "print(str.find(\"z\")) #index함수도 같은 일을 하지만 없는것을 넣으면 -1 대신에 에러가 난다"
   ]
  },
  {
   "cell_type": "code",
   "execution_count": 22,
   "metadata": {},
   "outputs": [
    {
     "name": "stdout",
     "output_type": "stream",
     "text": [
      "good    morning\n",
      "    goodmorning\n",
      "goodmorning\n"
     ]
    }
   ],
   "source": [
    "str1 = \"    good    \"\n",
    "str2 = \"morning\"\n",
    "print(str1.lstrip() + str2)\n",
    "print(str1.rstrip() + str2)\n",
    "print(str1.strip() + str2)"
   ]
  },
  {
   "cell_type": "code",
   "execution_count": 23,
   "metadata": {},
   "outputs": [
    {
     "name": "stdout",
     "output_type": "stream",
     "text": [
      "bad morning\n"
     ]
    }
   ],
   "source": [
    "str = \"good morning\"\n",
    "print(str.replace(\"good\", \"bad\"))"
   ]
  },
  {
   "cell_type": "code",
   "execution_count": 25,
   "metadata": {},
   "outputs": [
    {
     "name": "stdout",
     "output_type": "stream",
     "text": [
      "['good', 'morning']\n"
     ]
    }
   ],
   "source": [
    "str = \"good morning\"\n",
    "print(str.split())"
   ]
  },
  {
   "cell_type": "code",
   "execution_count": 26,
   "metadata": {},
   "outputs": [
    {
     "name": "stdout",
     "output_type": "stream",
     "text": [
      "['good', 'morning']\n"
     ]
    }
   ],
   "source": [
    "str = \"good/morning\"\n",
    "print(str.split(\"/\"))"
   ]
  },
  {
   "cell_type": "code",
   "execution_count": 31,
   "metadata": {},
   "outputs": [
    {
     "name": "stdout",
     "output_type": "stream",
     "text": [
      "[1, 2, 100, 3, 4, 5]\n"
     ]
    }
   ],
   "source": [
    "list = [1,2,3,4,5]\n",
    "list.insert(2,100)\n",
    "print(list)"
   ]
  },
  {
   "cell_type": "code",
   "execution_count": 32,
   "metadata": {},
   "outputs": [
    {
     "name": "stdout",
     "output_type": "stream",
     "text": [
      "[1, 3, 4, 5, 2]\n"
     ]
    }
   ],
   "source": [
    "list = [1, 2, 3, 4, 5, 2]\n",
    "list.remove(2)\n",
    "print(list)"
   ]
  },
  {
   "cell_type": "code",
   "execution_count": 34,
   "metadata": {},
   "outputs": [
    {
     "name": "stdout",
     "output_type": "stream",
     "text": [
      "5\n",
      "[1, 2, 3, 4]\n",
      "3\n",
      "[1, 2, 4]\n"
     ]
    }
   ],
   "source": [
    "list = [1,2,3,4,5]\n",
    "print(list.pop())\n",
    "print(list)\n",
    "print(list.pop(2))\n",
    "print(list)"
   ]
  },
  {
   "cell_type": "code",
   "execution_count": 36,
   "metadata": {},
   "outputs": [
    {
     "name": "stdout",
     "output_type": "stream",
     "text": [
      "2\n"
     ]
    }
   ],
   "source": [
    "list = [1, 2, 3, 4, 5, 3]\n",
    "print(list.count(3))"
   ]
  },
  {
   "cell_type": "code",
   "execution_count": 39,
   "metadata": {},
   "outputs": [
    {
     "name": "stdout",
     "output_type": "stream",
     "text": [
      "[1, 2, 3, 4, 5]\n",
      "[1, 2, 3, 4, 5]\n"
     ]
    }
   ],
   "source": [
    "list1 = [1,2]\n",
    "list2 = [3,4,5]\n",
    "list1.extend(list2)\n",
    "print(list1)\n",
    "\n",
    "list1 = [1,2]\n",
    "list2 = [3,4,5]\n",
    "list1 += list2\n",
    "print(list1)"
   ]
  },
  {
   "cell_type": "code",
   "execution_count": 40,
   "metadata": {},
   "outputs": [
    {
     "name": "stdout",
     "output_type": "stream",
     "text": [
      "6\n",
      "15\n"
     ]
    }
   ],
   "source": [
    "def sum(*a): # 입력값 몇개인지 모를때\n",
    "    tot = 0\n",
    "    for i in a:\n",
    "        tot += i\n",
    "    return tot\n",
    "\n",
    "print(sum(1, 2, 3))\n",
    "print(sum(1, 2, 3, 4, 5))"
   ]
  },
  {
   "cell_type": "code",
   "execution_count": 44,
   "metadata": {},
   "outputs": [
    {
     "name": "stdout",
     "output_type": "stream",
     "text": [
      "6\n",
      "0\n"
     ]
    }
   ],
   "source": [
    "def sum2(a, *b): # 섞을 수 있음\n",
    "    if a == \"sum\":\n",
    "        tot = 0\n",
    "        for i in b:\n",
    "            tot += i\n",
    "        return tot\n",
    "    else:\n",
    "        return 0\n",
    "\n",
    "print(sum2(\"sum\", 1, 2, 3))\n",
    "print(sum2(\"div\", 1, 2, 3, 4, 5,))"
   ]
  },
  {
   "cell_type": "code",
   "execution_count": 46,
   "metadata": {},
   "outputs": [
    {
     "name": "stdout",
     "output_type": "stream",
     "text": [
      "not 0\n"
     ]
    }
   ],
   "source": [
    "def show(a):\n",
    "    if a == 0:\n",
    "        return #함수빠져나가기\n",
    "    else:\n",
    "        print(\"not 0\")\n",
    "\n",
    "show(0)\n",
    "show(1)"
   ]
  },
  {
   "cell_type": "code",
   "execution_count": 48,
   "metadata": {},
   "outputs": [
    {
     "name": "stdout",
     "output_type": "stream",
     "text": [
      "{'a': 1}\n",
      "{'name': 'foo', 'age': 3}\n"
     ]
    }
   ],
   "source": [
    "def func(**kwargs): #dictionary로 만들어줌\n",
    "    print(kwargs)\n",
    "\n",
    "func(a=1)\n",
    "func(name='foo', age=3)"
   ]
  },
  {
   "cell_type": "code",
   "execution_count": 49,
   "metadata": {},
   "outputs": [
    {
     "name": "stdout",
     "output_type": "stream",
     "text": [
      "(1, 2, 3)\n",
      "{'name': 'foo', 'age': 3}\n"
     ]
    }
   ],
   "source": [
    "def func(*args, **kwargs):\n",
    "    print(args)\n",
    "    print(kwargs)\n",
    "    \n",
    "func(1, 2, 3, name='foo', age=3)"
   ]
  },
  {
   "cell_type": "code",
   "execution_count": 52,
   "metadata": {},
   "outputs": [
    {
     "name": "stdout",
     "output_type": "stream",
     "text": [
      "(8, 15)\n",
      "8 15\n"
     ]
    }
   ],
   "source": [
    "def sum_and_mul(a,b): \n",
    "    return a+b, a*b\n",
    "\n",
    "result = sum_and_mul(3, 5)\n",
    "print(result)\n",
    "sum, mul = sum_and_mul(3, 5)\n",
    "print(sum, mul)"
   ]
  },
  {
   "cell_type": "code",
   "execution_count": 1,
   "metadata": {},
   "outputs": [
    {
     "name": "stdout",
     "output_type": "stream",
     "text": [
      "a  20\n",
      "a  10\n"
     ]
    }
   ],
   "source": [
    "def func(a):\n",
    "    print(\"a \", a)\n",
    "    a = 10\n",
    "    print(\"a \", a)\n",
    "\n",
    "a = 20\n",
    "func(a)"
   ]
  },
  {
   "cell_type": "code",
   "execution_count": 2,
   "metadata": {},
   "outputs": [
    {
     "name": "stdout",
     "output_type": "stream",
     "text": [
      "11\n",
      "10\n"
     ]
    }
   ],
   "source": [
    "def func(b):\n",
    "    b = b + 1\n",
    "    print(b)\n",
    "\n",
    "b = 10\n",
    "func(b)\n",
    "print(b)"
   ]
  },
  {
   "cell_type": "code",
   "execution_count": 5,
   "metadata": {},
   "outputs": [
    {
     "name": "stdout",
     "output_type": "stream",
     "text": [
      "11\n"
     ]
    }
   ],
   "source": [
    "def func(c):\n",
    "    c = c + 1\n",
    "    return c\n",
    "c = 10\n",
    "c = func(c)\n",
    "print(c)"
   ]
  },
  {
   "cell_type": "code",
   "execution_count": 1,
   "metadata": {},
   "outputs": [
    {
     "name": "stdout",
     "output_type": "stream",
     "text": [
      "11\n"
     ]
    }
   ],
   "source": [
    "d = 10\n",
    "def func():\n",
    "    global d # 위처럼 return으로 쓰는게 훨씬좋다\n",
    "    d = d + 1\n",
    "func()\n",
    "print(d)"
   ]
  },
  {
   "cell_type": "code",
   "execution_count": 3,
   "metadata": {
    "scrolled": true
   },
   "outputs": [
    {
     "name": "stdout",
     "output_type": "stream",
     "text": [
      "asdf\n",
      "asdf\n"
     ]
    }
   ],
   "source": [
    "str = input()\n",
    "print(str)"
   ]
  },
  {
   "cell_type": "code",
   "execution_count": 4,
   "metadata": {},
   "outputs": [
    {
     "name": "stdout",
     "output_type": "stream",
     "text": [
      ">>>>>asdf\n",
      "asdf\n"
     ]
    }
   ],
   "source": [
    "str = input(\">>>>>\")\n",
    "print(str)"
   ]
  },
  {
   "cell_type": "code",
   "execution_count": 6,
   "metadata": {},
   "outputs": [
    {
     "name": "stdout",
     "output_type": "stream",
     "text": [
      "asdf z"
     ]
    }
   ],
   "source": [
    "str = \"asdf\"\n",
    "print(str, end=\" z\")"
   ]
  },
  {
   "cell_type": "code",
   "execution_count": null,
   "metadata": {},
   "outputs": [],
   "source": [
    "fp = open(\"temp.txt\", r)\n",
    "datas = fp.readlines() #모두 불러옴 (list로)\n",
    "\n",
    "for data in datas:\n",
    "    print(data)\n",
    "\n",
    "fp.close()"
   ]
  },
  {
   "cell_type": "code",
   "execution_count": null,
   "metadata": {},
   "outputs": [],
   "source": [
    "fp = open(\"temp.txt\", r)\n",
    "datas = fp.read() #모두 불러옴 (문자열로)\n",
    "\n",
    "for data in datas:\n",
    "    print(data)\n",
    "\n",
    "fp.close()"
   ]
  },
  {
   "cell_type": "code",
   "execution_count": null,
   "metadata": {},
   "outputs": [],
   "source": [
    "with open(\"temp.txt\", r) as fp:\n",
    "    ###\n"
   ]
  },
  {
   "cell_type": "code",
   "execution_count": 7,
   "metadata": {},
   "outputs": [
    {
     "name": "stdout",
     "output_type": "stream",
     "text": [
      "-f\n",
      "C:\\Users\\sss\\AppData\\Roaming\\jupyter\\runtime\\kernel-55823baf-c42a-49ff-8842-4ee2dbf8cdf2.json\n"
     ]
    }
   ],
   "source": [
    "import sys\n",
    "args = sys.argv[1:]\n",
    "for i in args:\n",
    "    print(i)"
   ]
  },
  {
   "cell_type": "code",
   "execution_count": 4,
   "metadata": {},
   "outputs": [
    {
     "name": "stdout",
     "output_type": "stream",
     "text": [
      "dict_keys([1, 2, 'asdf'])\n",
      "1\n",
      "2\n",
      "asdf\n",
      "[1, 2, 'asdf']\n",
      "dict_values(['a', 'b', 5])\n",
      "a\n",
      "b\n",
      "5\n",
      "['a', 'b', 5]\n",
      "dict_items([(1, 'a'), (2, 'b'), ('asdf', 5)])\n",
      "(1, 'a')\n",
      "(2, 'b')\n",
      "('asdf', 5)\n",
      "[(1, 'a'), (2, 'b'), ('asdf', 5)]\n"
     ]
    }
   ],
   "source": [
    "# dictionary\n",
    "# key : value => item\n",
    "# key에 list는 불가, tuple은 가능\n",
    "# key값은 고유, 중복될수없음\n",
    "a = dict() # 빈 dictionary 생성\n",
    "a = {1: \"a\", 2: \"b\", \"asdf\": 5 }\n",
    "\n",
    "dict_keys = a.keys() # key값 보유 dict_keys를 return\n",
    "print(dict_keys)\n",
    "for key in a.keys():\n",
    "    print(key)\n",
    "key_list = list(a.keys())\n",
    "print(key_list)\n",
    "\n",
    "dict_values = a.values() # value값 보유 dict_values를 return\n",
    "print(dict_values)\n",
    "for value in a.values():\n",
    "    print(value)\n",
    "values_list = list(a.values())\n",
    "print(values_list)\n",
    "\n",
    "dict_items = a.items() # item값 보유 dict_items를 return\n",
    "print(dict_items)\n",
    "for item in a.items():\n",
    "    print(item)\n",
    "items_list = list(a.items())\n",
    "print(items_list)"
   ]
  },
  {
   "cell_type": "code",
   "execution_count": 7,
   "metadata": {},
   "outputs": [
    {
     "name": "stdout",
     "output_type": "stream",
     "text": [
      "a\n",
      "a\n",
      "None\n",
      "default\n",
      "True\n",
      "False\n"
     ]
    }
   ],
   "source": [
    "a = {1: \"a\", 2: \"b\", \"asdf\": 5 }\n",
    "print(a[1])\n",
    "print(a.get(1))\n",
    "#print(a[0])  # 에러 뜬다\n",
    "print(a.get(0)) # 에러 안뜬다 (return None)\n",
    "print(a.get(0, 'default')) # default 값 지정\n",
    "\n",
    "print('asdf' in a)\n",
    "print(0 in a)"
   ]
  },
  {
   "cell_type": "code",
   "execution_count": 11,
   "metadata": {},
   "outputs": [
    {
     "name": "stdout",
     "output_type": "stream",
     "text": [
      "{1: 'a', 2: 'b', 'asdf': 5}\n",
      "a\n",
      "{2: 'b', 'asdf': 5}\n",
      "default\n",
      "{2: 'b', 'asdf': 5}\n"
     ]
    }
   ],
   "source": [
    "a = {1: \"a\", 2: \"b\", \"asdf\": 5 }\n",
    "print(a)\n",
    "print(a.pop(1))\n",
    "print(a)\n",
    "#print(a.pop(0)) # 없으면 에러 뜬다\n",
    "print(a.pop(0, 'default'))\n",
    "print(a)"
   ]
  },
  {
   "cell_type": "code",
   "execution_count": 13,
   "metadata": {},
   "outputs": [
    {
     "name": "stdout",
     "output_type": "stream",
     "text": [
      "{'a', 'c', 'b'}\n",
      "a\n"
     ]
    }
   ],
   "source": [
    "# set 집합\n",
    "# 순서x 중복x \n",
    "s = set(['a', 'b', 'c'])\n",
    "print(s)\n",
    "#print(s[0]) 불가\n",
    "s_l = list(s) # list 변환\n",
    "print(s_l[0])"
   ]
  },
  {
   "cell_type": "code",
   "execution_count": 25,
   "metadata": {},
   "outputs": [
    {
     "name": "stdout",
     "output_type": "stream",
     "text": [
      "{3}\n",
      "{3}\n",
      "{1, 2, 3, 4}\n",
      "{1, 2, 3, 4}\n",
      "{1, 2}\n",
      "{1, 2}\n",
      "{1, 2, 4}\n"
     ]
    }
   ],
   "source": [
    "s1 = set([1, 2, 3])\n",
    "s2 = set([3, 4])\n",
    "\n",
    "print(s1 & s2) #교집합\n",
    "print(s1.intersection(s2))\n",
    "print(s1 | s2) #합집합\n",
    "print(s1.union(s2)) #합집합\n",
    "print(s1 - s2) #차집합\n",
    "print(s1.difference(s2)) #차집합\n",
    "print(s1 ^ s2) #합집합 - 교집합"
   ]
  },
  {
   "cell_type": "code",
   "execution_count": 24,
   "metadata": {},
   "outputs": [
    {
     "name": "stdout",
     "output_type": "stream",
     "text": [
      "{1, 2, 3, 4}\n",
      "{1, 2, 3, 4, 5}\n",
      "{2, 3, 4, 5}\n",
      "None\n",
      "{2, 3, 4, 5}\n"
     ]
    }
   ],
   "source": [
    "s = set([1, 2, 3])\n",
    "s.add(4)\n",
    "print(s)\n",
    "s.update([5])\n",
    "print(s)\n",
    "s.remove(1)\n",
    "print(s)\n",
    "#s.remove(9) 에러 난다\n",
    "print(s.discard(9))\n",
    "print(s)"
   ]
  },
  {
   "cell_type": "code",
   "execution_count": null,
   "metadata": {},
   "outputs": [],
   "source": []
  }
 ],
 "metadata": {
  "kernelspec": {
   "display_name": "Python 3",
   "language": "python",
   "name": "python3"
  },
  "language_info": {
   "codemirror_mode": {
    "name": "ipython",
    "version": 3
   },
   "file_extension": ".py",
   "mimetype": "text/x-python",
   "name": "python",
   "nbconvert_exporter": "python",
   "pygments_lexer": "ipython3",
   "version": "3.6.2"
  }
 },
 "nbformat": 4,
 "nbformat_minor": 2
}
